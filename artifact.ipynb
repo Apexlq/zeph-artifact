{
 "cells": [
  {
   "cell_type": "markdown",
   "id": "enormous-insured",
   "metadata": {},
   "source": [
    "## Zeph\n",
    "\n",
    "This repository contains the artifact for the OSDI 2021 submission [\"Zeph: Cryptographic Enforcement of End-to-End Data Privacy\"](osdi21-paper210-zeph.pdf). \n",
    "\n",
    "The current implementation of Zeph is an academic proof-of-concept prototype. The prototype is designed to focus on evaluating the overheads of enforcing privacy transformations on encrypted data streams in Apache Kafka/Kafka Streams. The current prototype is not meant to be directly used for applications in productions. Note that currently - and as we mentioned in our submission - the orchestration of transformation, i.e., the policy manager's role is emulated with ansible scripts that run the end-to-end benchmark. \n",
    "\n",
    "This repository is structured as follows.\n",
    "For more information, see the individual README files in the corresponding folders.\n",
    "\n",
    "#### Zeph Components\n",
    "\n",
    "- [**Zeph-client**](zeph-client/README.md): This folder contains Zeph's client library's implementation. It contains the data producer and privacy controller implementation.\n",
    "\n",
    "- [**Zeph-server**](zeph-server/README.md): This folder contains Kafka's server library implementation. In its essence, the data transformer is a stream processor that performs privacy-preserving transformations on encrypted data streams by leveraging a stream of privacy transformation tokens.\n",
    "\n",
    "#### Zeph Utility\n",
    "\n",
    "- [**Zeph-crypto**](zeph-crypto/README.md): This folder holds the implementation of the cryptographic material for Zeph. It contains the native implementation of the secure aggregation protocol for the Strawman, Dream, and Zeph Optimization and the implementation of the stream encryption.\n",
    "\n",
    "- [**Zeph-shared**](zeph-shared/README.md): This folder holds the implementations of the shared components of the client and the server of Zeph (e.g., Avro record, pojo, serde).\n",
    "\n",
    "#### Zeph Benchmarks and Evaluation\n",
    "\n",
    "- [**Zeph-benchmarks**](zeph-benchmarks/README.md): This folder holds all the material relevant to the microbenchmarks and the end-to-end evaluation of Zeph. Zeph Dashboard and a demo of Zeph as well can be found in this folder.\n",
    "\n",
    "- [**Ansible**](ansible/README.md): The ansible playbooks we made to help and assist in navigating and automatically setting up and running the benchmarks on AWS for Zeph."
   ]
  },
  {
   "cell_type": "markdown",
   "id": "passive-dietary",
   "metadata": {},
   "source": [
    "## Experiments\n",
    "\n",
    "We provide a [JupyterLab](https://jupyterlab.readthedocs.io/en/stable/) environment to run the experiments and evaluate the artifact of Zeph.\n",
    "Our JupyterLab environment contains further documentation, runnable code cells to run benchmarks locally or on AWS (using `!` to run shell commands), and runnable code cells to recreate the plots from the paper. \n",
    "\n",
    "To execute a selected cell, either click on the run button in the toolbar or use `Ctrl + Enter`.\n",
    "To keep the JupyterLab readable, cells containing longer code sections to create plots are initially collapsed (indicated by three dots). However, by clicking on the dots, the cell containing the code expands (`View/Collapse Selected Code` to collapse the code again).\n",
    "\n",
    "**Note that the shell commands to execute benchmarks are by default commented out. Uncomment to initiate the runs for these benchmarks.** (remove `#` before or `\"\"\"` enclosing the shell command)\n",
    "\n",
    "#### AWS\n",
    "AWS login information can be found in the Artifact submission system. This will allow the  Artifact reviewers to run the evaluation on the same resources stated in the paper submission. The experiments on AWS are automated with ansible-playbooks and can be called from the JupyterLab environment.\n",
    "\n",
    "**Please ensure that the AWS resources are cleaned up if they are not used in the artifact**  \n",
    "If the playbook terminates normally (i.e., without error and is not interrupted), then the playbook ensures that the created resources are also cleaned up.\n",
    "When in doubt, please run the `ansible/awscleanup.yml` playbook with the command below or contact the authors to avoid unnecessary costs."
   ]
  },
  {
   "cell_type": "code",
   "execution_count": 1,
   "id": "welcome-architect",
   "metadata": {
    "scrolled": true,
    "tags": []
   },
   "outputs": [
    {
     "name": "stdout",
     "output_type": "stream",
     "text": [
      "CPU times: user 4 µs, sys: 0 ns, total: 4 µs\n",
      "Wall time: 8.82 µs\n"
     ]
    }
   ],
   "source": [
    "%%time\n",
    "# Uncomment and run to terminate all resources on AWS (in case of an error, try to repeat and otherwise contact the authors) \n",
    "\n",
    "#!ansible-playbook ansible/awscleanup.yml -i ansible/inventory --private-key ~/.ssh/id_rsa_zeph"
   ]
  },
  {
   "cell_type": "markdown",
   "id": "junior-blake",
   "metadata": {},
   "source": [
    "## Getting Started (Zeph JupyterLab)\n",
    "\n",
    "### Initial Steps (~20 min)\n",
    "1. Clone the code from GitHub [Zeph](https://github.com/pps-lab/zeph)\n",
    "\n",
    "2. Reviewers should have received a private key: `id_rsa_zeph` and AWS credentials \n",
    "     1. move the provided private key `id_rsa_zeph` to the `aws-material` folder of the cloned project (reviewers should have received the key, otherwise contact us) \n",
    "     2. Copy/Paste the provided AWS credentials in `aws-material/boto`: \n",
    "    ```\n",
    "    [Credentials]\n",
    "    aws_access_key_id = {YOUR_AWS_ACCESS_KEY_ID}\n",
    "    aws_secret_access_key = {YOUR_AWS_ACCESS_KEY}\n",
    "    ```\n",
    "\n",
    "3. Build the docker Image (~7 min)\n",
    "```\n",
    "docker build --rm -t jupyter/zeph .\n",
    "```\n",
    "\n",
    "4. `[Optional]` Create a docker volume to persist potential benchmark results.\n",
    "```\n",
    "docker volume create zeph-data\n",
    "```\n",
    "\n",
    "5. Start JupyterLab, which launches the guide for the artifact evaluation:\n",
    "```\n",
    "docker run -it --rm -p 8888:8888 -v zeph-data:/home/jovyan/results/review-results:Z jupyter/zeph start.sh jupyter lab\n",
    "```\n",
    "```\n",
    "# Without a volume\n",
    "docker run -it --rm -p 8888:8888 jupyter/zeph start.sh jupyter lab\n",
    "```\n",
    "\n",
    "6. Access JupyterLab via a web browser with the link outputted in the console  \n",
    "\n",
    "7. In JupyterLab, open `artifact.ipynb`. The documentation in the notebook guides through the different parts of the artifact. **Continue from here in JupyterLab (same text as in the readme)**\n",
    "\n",
    "8. Run all cells with `Run / Run All Cells` (~ 10 sec). Note that the (long-running) shell commands are initially commented out.  \n",
    "\n",
    "9. Test the JupyterLab setup by running the two commands below to check whether things are configured properly."
   ]
  },
  {
   "cell_type": "markdown",
   "id": "labeled-former",
   "metadata": {},
   "source": [
    "#### Imports and Initialization"
   ]
  },
  {
   "cell_type": "code",
   "execution_count": 2,
   "id": "bearing-nepal",
   "metadata": {
    "jupyter": {
     "source_hidden": true
    },
    "tags": []
   },
   "outputs": [],
   "source": [
    "# ensure review results directories are present\n",
    "!mkdir -p results/review-results/aws\n",
    "!mkdir -p results/review-results/local\n",
    "\n",
    "# imports and path handling of files\n",
    "import os, json, math, glob\n",
    "import pandas as pd\n",
    "import numpy as np\n",
    "import statistics as stat\n",
    "import matplotlib.pyplot as plt\n",
    "import matplotlib.ticker as plticker\n",
    "from IPython.display import display, Markdown, HTML, clear_output\n",
    "\n",
    "pd.set_option('display.max_colwidth', None)\n",
    "\n",
    "def get_result_path(source, file_d={\"paper\": \"\", \"aws\": \"\", \"local\": \"\"}):\n",
    "    if source == \"paper\":\n",
    "        return os.path.join(\"results/paper\", file_d[\"paper\"])\n",
    "    elif source == \"aws\":\n",
    "        return os.path.join(\"results/review-results/aws\", file_d[\"aws\"])\n",
    "    elif source == \"local\":\n",
    "        return os.path.join(\"results/review-results/local\", file_d[\"local\"])\n",
    "    else:\n",
    "        raise ValueError(\"unknown source: must be one of [paper, aws, local]\")\n"
   ]
  },
  {
   "cell_type": "markdown",
   "id": "binary-tanzania",
   "metadata": {},
   "source": [
    "#### Running all Microbenchmarks locally with minimal configuration (~2 min)"
   ]
  },
  {
   "cell_type": "code",
   "execution_count": 3,
   "id": "systematic-annotation",
   "metadata": {
    "scrolled": true,
    "tags": []
   },
   "outputs": [
    {
     "data": {
      "text/markdown": [
       "Done! Cleared output for conciseness ([Show Cell Output](logs/mbench_minimal.log))"
      ],
      "text/plain": [
       "<IPython.core.display.Markdown object>"
      ]
     },
     "metadata": {},
     "output_type": "display_data"
    },
    {
     "name": "stdout",
     "output_type": "stream",
     "text": [
      "CPU times: user 5.35 ms, sys: 646 µs, total: 5.99 ms\n",
      "Wall time: 5.1 ms\n"
     ]
    }
   ],
   "source": [
    "%%time\n",
    "# Running all Microbenchmarks locally with minimal configuration to check that the local setup works. (~2 min) \n",
    "\n",
    "\"\"\"\n",
    "!java -jar zeph-benchmarks/zeph-microbenchmarks/target/zeph-microbenchmarks-1.0.jar \\\n",
    "    testEncode$ testEncodeEncrypt$ testECDH$ testErdosRenyiNative$ testDreamNative$ testStrawmanNative$ testUniverseDelta$ \\\n",
    "    -foe true -f 0 -wi 0 -i 1 -rf json -rff results/review-results/local/minimal.json -p dataDir=data \\\n",
    "    -p encoderConfig=avg \\\n",
    "    -p size_win=100_256 \\\n",
    "    -p universeSize=1000 -p addE_addNE_dropE_dropNE=0_10_0_10 \\\n",
    "    2>&1 | tee logs/mbench_minimal.log\n",
    "\"\"\"\n",
    "clear_output()\n",
    "display(Markdown(\"Done! Cleared output for conciseness ([Show Cell Output](logs/mbench_minimal.log))\"))"
   ]
  },
  {
   "cell_type": "markdown",
   "id": "varying-conference",
   "metadata": {},
   "source": [
    "#### Check Configuration to run Zeph on AWS (~3 min)"
   ]
  },
  {
   "cell_type": "markdown",
   "id": "sustained-nowhere",
   "metadata": {},
   "source": [
    "Before executing the command we recommend to login to the [AWS Management Console](https://226594459110.signin.aws.amazon.com/console) with the provided credentials.\n",
    "In the management console select the London region (eu-west-2) and open the EC2 service. This allows to observe what the minimal ansible playbook does.\n",
    "\n",
    "The minimal playbook will:\n",
    "1. create a VPC\n",
    "2. start one EC2 instance\n",
    "3. clone Zeph from GitHub\n",
    "4. reset the AWS environment (terminate instance, remove VPC)\n",
    "\n",
    "In case something fails, ensure that the provided aws material (private key and credentials) are placed as described above.  "
   ]
  },
  {
   "cell_type": "code",
   "execution_count": 4,
   "id": "horizontal-jackson",
   "metadata": {
    "scrolled": true,
    "tags": []
   },
   "outputs": [
    {
     "data": {
      "text/markdown": [
       "Done! Cleared output for conciseness ([Show Cell Output](logs/aws_minimal.log))"
      ],
      "text/plain": [
       "<IPython.core.display.Markdown object>"
      ]
     },
     "metadata": {},
     "output_type": "display_data"
    },
    {
     "name": "stdout",
     "output_type": "stream",
     "text": [
      "CPU times: user 841 µs, sys: 2.51 ms, total: 3.35 ms\n",
      "Wall time: 2.77 ms\n"
     ]
    }
   ],
   "source": [
    "%%time\n",
    "#!ansible-playbook ansible/minimal.yml -i ansible/inventory --private-key ~/.ssh/id_rsa_zeph --ssh-common-args='-o StrictHostKeyChecking=no' 2>&1 | tee logs/aws_minimal.log\n",
    "\n",
    "clear_output()\n",
    "display(Markdown(\"Done! Cleared output for conciseness ([Show Cell Output](logs/aws_minimal.log))\"))"
   ]
  },
  {
   "cell_type": "markdown",
   "id": "further-firewall",
   "metadata": {
    "tags": [
     "Test"
    ]
   },
   "source": [
    "## Running Experiments\n",
    "We assume that the following steps are followed within the JupyterLab environment. \n",
    "For each result shown in the paper, we have a separate section.\n",
    "Each section contains:\n",
    "\n",
    "1. Code to produce the results in form of a table based on the output files from the benchmarks\n",
    "\n",
    "2. Code to create the plot shown in the paper from the results table\n",
    "\n",
    "3. Code that displays both the results and the figure and allows you to switch between the results from the paper and the reproduced results\n",
    "\n",
    "4. The command to reproduce the results (locally / on aws for microbenchmarks, and on aws for the end-to-end benchmark. You can uncomment the command and run the cell with `Ctrl + Enter`.\n",
    "\n",
    "Note that for improved readability, the code for creating the table and the plot is initially collapsed but can be openend by clicking on the three dots. To collapse the code again, select the cell by clicking on it and then go to `View/Collapse Selected Code`.\n",
    "\n",
    "JupyterLab code cells are blocking which means that when executing a cell (e.g., run a benchmark), we cannot run another cell until the previous cell finished.\n",
    "As a result, it might be to better for long running commands to copy the shell command (excluding the comment and  `!`) and execute it in a Jupyter terminal.\n",
    "\n",
    "In any case, while running a benchmark in a cell or a terminal, keep the JupyterLab session open and ensure that the internet connection is stable (for AWS)."
   ]
  },
  {
   "cell_type": "code",
   "execution_count": 5,
   "id": "ignored-design",
   "metadata": {
    "jupyter": {
     "source_hidden": true
    },
    "tags": []
   },
   "outputs": [
    {
     "data": {
      "text/html": [
       " <a href=\"\", data-commandlinker-command=\"terminal:create-new\" >Open new Terminal</a>"
      ],
      "text/plain": [
       "<IPython.core.display.HTML object>"
      ]
     },
     "execution_count": 5,
     "metadata": {},
     "output_type": "execute_result"
    }
   ],
   "source": [
    "HTML(' <a href=\"\", data-commandlinker-command=\"terminal:create-new\" >Open new Terminal</a>')"
   ]
  },
  {
   "cell_type": "markdown",
   "id": "velvet-billion",
   "metadata": {},
   "source": [
    "### Microbenchmarks (Figure 5,6,7,8 and Table 1)\n"
   ]
  },
  {
   "cell_type": "markdown",
   "id": "ongoing-naples",
   "metadata": {},
   "source": [
    "#### Running all Microbenchmarks on AWS EC2 (3h 20min)\n",
    "All microbenchmarks in the paper run on a single AWS EC2 instance.\n",
    "Since running all microbenchmarks takes quite a bit of time, we provide two ansible playbook commands to help with the process.\n",
    "\n",
    "1. The ansible playbook with the tag \"start\" initializes the AWS environment (e.g., creates a VPC, creates a single EC2 instance), fetches the current version of the code from GitHub, and builds Zeph. Afterwards it starts a systemd service `microbenchmark.service` on the remote machine to run all the microbenchmarks.\n",
    "\n",
    "2. The ansible playbook with the tag \"result\" checks repeatedly (up to 100 times with a 15s delay in between) whether the `microbenchmark.service` is still running. As soon as the service stopped, the playbook fetches the benchmark result file into the local folder (`results/review-results/aws`). From there we can reproduce the figures from the paper as described below.\n"
   ]
  },
  {
   "cell_type": "code",
   "execution_count": 6,
   "id": "cooperative-meter",
   "metadata": {
    "jupyter": {
     "source_hidden": true
    },
    "tags": []
   },
   "outputs": [
    {
     "data": {
      "text/html": [
       " <a href=\"\", data-commandlinker-command=\"terminal:create-new\" >Open new Terminal</a> (alternative to execute shell command in a blocking cell)"
      ],
      "text/plain": [
       "<IPython.core.display.HTML object>"
      ]
     },
     "execution_count": 6,
     "metadata": {},
     "output_type": "execute_result"
    }
   ],
   "source": [
    "HTML(' <a href=\"\", data-commandlinker-command=\"terminal:create-new\" >Open new Terminal</a> (alternative to execute shell command in a blocking cell)')"
   ]
  },
  {
   "cell_type": "code",
   "execution_count": 7,
   "id": "weekly-bishop",
   "metadata": {
    "scrolled": true,
    "tags": []
   },
   "outputs": [
    {
     "data": {
      "text/markdown": [
       "Done! Cleared output for conciseness ([Show Cell Output](logs/mbench_aws_start.log))"
      ],
      "text/plain": [
       "<IPython.core.display.Markdown object>"
      ]
     },
     "metadata": {},
     "output_type": "display_data"
    },
    {
     "name": "stdout",
     "output_type": "stream",
     "text": [
      "CPU times: user 3.4 ms, sys: 1.56 ms, total: 4.96 ms\n",
      "Wall time: 5.26 ms\n"
     ]
    }
   ],
   "source": [
    "%%time\n",
    "# Command to start all microbenchmarks (~ 14 min)\n",
    "\n",
    "# Note `-o StrictHostKeyChecking=no` allows to directly connect to the newly created ec2 machine\n",
    "\n",
    "#!ansible-playbook ansible/mbenchpaper.yml -i ansible/inventory -e \"run_id=0\" --private-key ~/.ssh/id_rsa_zeph --ssh-common-args='-o StrictHostKeyChecking=no' --tags \"start\" 2>&1 | tee logs/mbench_aws_start.log\n",
    "\n",
    "clear_output()\n",
    "display(Markdown(\"Done! Cleared output for conciseness ([Show Cell Output](logs/mbench_aws_start.log))\"))"
   ]
  },
  {
   "cell_type": "markdown",
   "id": "surgical-holocaust",
   "metadata": {},
   "source": [
    "Running all microbenchmarks on EC2 takes ~ 3h 20min. \n",
    "The playbook below checks whether the microbenchmarks are finished and fetches the result file.\n",
    "\n",
    "Note to observe the progress manually, use ssh to connect to the ec2 instance and look at the files in: `~/logs`. \n",
    "(`ssh ubuntu@<Public IPv4 DNS> -i ~/.ssh/id_rsa_zeph`)"
   ]
  },
  {
   "cell_type": "code",
   "execution_count": 8,
   "id": "modular-visitor",
   "metadata": {
    "scrolled": true,
    "tags": []
   },
   "outputs": [
    {
     "data": {
      "text/markdown": [
       "Done! Cleared output for conciseness ([Show Cell Output](logs/mbench_aws_result.log))"
      ],
      "text/plain": [
       "<IPython.core.display.Markdown object>"
      ]
     },
     "metadata": {},
     "output_type": "display_data"
    },
    {
     "name": "stdout",
     "output_type": "stream",
     "text": [
      "CPU times: user 1.14 ms, sys: 2.68 ms, total: 3.82 ms\n",
      "Wall time: 3.06 ms\n"
     ]
    }
   ],
   "source": [
    "%%time\n",
    "# Command that waits for the microbenchmarks to finish and then fetches the result file. \n",
    "# (It waits for a maximum of 25 minutes before it aborts but you can also abort manually if the results are not ready yet and retry later)\n",
    "\n",
    "# between ~ 2 min and 25 min depending on whether benchmark is complete. \n",
    "\n",
    "#!ansible-playbook ansible/mbenchpaper.yml -i ansible/inventory --private-key ~/.ssh/id_rsa_zeph --tags \"result\" 2>&1 | tee logs/mbench_aws_result.log\n",
    "\n",
    "\n",
    "clear_output()\n",
    "display(Markdown(\"Done! Cleared output for conciseness ([Show Cell Output](logs/mbench_aws_result.log))\"))"
   ]
  },
  {
   "cell_type": "markdown",
   "id": "preceding-classroom",
   "metadata": {},
   "source": [
    "#### `Optional:` Running Microbenchmarks Locally\n",
    "\n",
    "Before running microbenchmarks locally, you have to build Zeph (in the Standard Application) with the command `mvn clean install` as shown below.\n",
    "Note, that Zeph in the standard application is already built when building the Docker container. So only rebuild Zeph if you switch the application or something fails. \n",
    "For each of the figures, we provide the command to run the corresponding microbenchmark."
   ]
  },
  {
   "cell_type": "code",
   "execution_count": 9,
   "id": "victorian-courage",
   "metadata": {
    "scrolled": true,
    "tags": []
   },
   "outputs": [
    {
     "data": {
      "text/markdown": [
       "Done! Cleared output for conciseness ([Show Cell Output](logs/build_zeph_standard.log))"
      ],
      "text/plain": [
       "<IPython.core.display.Markdown object>"
      ]
     },
     "metadata": {},
     "output_type": "display_data"
    },
    {
     "name": "stdout",
     "output_type": "stream",
     "text": [
      "CPU times: user 4 ms, sys: 12 µs, total: 4.01 ms\n",
      "Wall time: 3.49 ms\n"
     ]
    }
   ],
   "source": [
    "%%time\n",
    "\n",
    "# Build Zeph (in the Standard Application)  (~6 min)\n",
    "#!mvn clean install 2>&1 | tee logs/build_zeph_standard.log\n",
    "\n",
    "clear_output()\n",
    "display(Markdown(\"Done! Cleared output for conciseness ([Show Cell Output](logs/build_zeph_standard.log))\"))"
   ]
  },
  {
   "cell_type": "markdown",
   "id": "blessed-andrew",
   "metadata": {},
   "source": [
    "\n",
    "\n"
   ]
  },
  {
   "cell_type": "markdown",
   "id": "worthy-survey",
   "metadata": {},
   "source": [
    "### Data Producer (Figure 5)\n",
    "\n",
    "Code Marker: [EncoderBenchmark.java](zeph-benchmarks/zeph-microbenchmarks/src/main/java/ch/ethz/infk/pps/zeph/benchmark/EncoderBenchmark.java)"
   ]
  },
  {
   "cell_type": "markdown",
   "id": "billion-luther",
   "metadata": {},
   "source": [
    "#### `Optional:` Run the Microbenchmark for Figure 5 locally (~40min)"
   ]
  },
  {
   "cell_type": "code",
   "execution_count": 10,
   "id": "desperate-affiliation",
   "metadata": {
    "scrolled": true,
    "tags": []
   },
   "outputs": [
    {
     "data": {
      "text/markdown": [
       "Done! Cleared output for conciseness ([Show Cell Output](logs/figure5.log))"
      ],
      "text/plain": [
       "<IPython.core.display.Markdown object>"
      ]
     },
     "metadata": {},
     "output_type": "display_data"
    },
    {
     "name": "stdout",
     "output_type": "stream",
     "text": [
      "CPU times: user 4.79 ms, sys: 368 µs, total: 5.16 ms\n",
      "Wall time: 5.21 ms\n"
     ]
    }
   ],
   "source": [
    "%%time\n",
    "#!java -jar zeph-benchmarks/zeph-microbenchmarks/target/zeph-microbenchmarks-1.0.jar testEncode testEncodeEncrypt -rf json -rff results/review-results/local/figure5_out.json -p encoderConfig=count,sum,avg,var,hist_10,reg 2>&1 | tee logs/figure5.log\n",
    "\n",
    "clear_output()\n",
    "display(Markdown(\"Done! Cleared output for conciseness ([Show Cell Output](logs/figure5.log))\"))"
   ]
  },
  {
   "cell_type": "markdown",
   "id": "productive-dance",
   "metadata": {},
   "source": [
    "#### Description\n",
    "\n",
    "The overhead of the data producer consists of encoding and encrypting records in Zeph's symmetric additive homomorphic encryption scheme. We measure the computational overhead with a microbenchmark and we show analytically how the bandwidth requirements depends on the applied encoding.\n",
    "\n",
    "For the benchmark run on the Raspberry Pi, we only provide the results from the paper. (However, you could build Zeph on the Raspberry Pi and run the benchmark with the comand below)"
   ]
  },
  {
   "cell_type": "code",
   "execution_count": 11,
   "id": "geographic-frame",
   "metadata": {
    "jupyter": {
     "source_hidden": true
    },
    "tags": []
   },
   "outputs": [],
   "source": [
    "def build_figure5_df(file):\n",
    "    try:\n",
    "        with open(file) as json_file:\n",
    "            data = json.load(json_file)\n",
    "    except (FileNotFoundError, ValueError) as e:\n",
    "        return None\n",
    "    \n",
    "    res_encode = []\n",
    "    res_encode_encrypt = []\n",
    "\n",
    "    for exp in data:\n",
    "        benchmark = exp['benchmark'].split(\".\")[-1]\n",
    "        \n",
    "        if benchmark not in [\"testEncode\", \"testEncodeEncrypt\"]:\n",
    "            continue\n",
    "    \n",
    "        exp[\"primaryMetric\"][\"rawData\"]\n",
    "    \n",
    "        if \"Raspbian\" in exp[\"vmVersion\"]:\n",
    "            system = \"raspbian\"\n",
    "        elif \"Ubuntu\" in exp[\"vmVersion\"]:\n",
    "            system = \"ubuntu\"\n",
    "        else:\n",
    "            raise ValueError(f\"unknown vm version {exp['vmVersion']}\")\n",
    "\n",
    "\n",
    "\n",
    "        rt_us = 1/(exp[\"primaryMetric\"][\"score\"]/1000000)\n",
    "        rts_us = [1/(x/1000000) for x in exp[\"primaryMetric\"][\"rawData\"][0]]\n",
    "        rt_stddev_us = stat.stdev(rts_us)\n",
    "\n",
    "        tp_stddev = stat.stdev(exp[\"primaryMetric\"][\"rawData\"][0])\n",
    "\n",
    "        if benchmark == \"testEncode\":\n",
    "\n",
    "            parts = exp[\"params\"][\"encoderConfig\"].split(\"_\")\n",
    "            config = parts[1] if len(parts)> 1 else \"-\"\n",
    "\n",
    "            d = {\n",
    "                \"system\": system,\n",
    "                \"encoding\": parts[0],\n",
    "                \"config\": config,\n",
    "                \"tp_encode\": int(exp[\"primaryMetric\"][\"score\"]),\n",
    "                \"tp_encode_stdev\": tp_stddev,\n",
    "                \"rt_encode_us\": rt_us,\n",
    "                \"rt_encode_stdev_us\": rt_stddev_us\n",
    "            }\n",
    "            res_encode.append(d)\n",
    "\n",
    "        elif benchmark == \"testEncodeEncrypt\":\n",
    "            parts = exp[\"params\"][\"encoderConfig\"].split(\"_\")\n",
    "            config = parts[1] if len(parts)> 1 else \"-\"\n",
    "            d = {\n",
    "                \"system\": system,\n",
    "                \"encoding\": parts[0],\n",
    "                \"config\": config,\n",
    "                \"tp_encode_encrypt\": int(exp[\"primaryMetric\"][\"score\"]),\n",
    "                \"tp_encode_encrypt_stdev\": tp_stddev,\n",
    "                \"rt_encode_encrypt_us\": rt_us,\n",
    "                \"rt_encode_encrypt_stdev_us\": rt_stddev_us\n",
    "            }\n",
    "            res_encode_encrypt.append(d)\n",
    "\n",
    "\n",
    "    df_encode = pd.DataFrame(res_encode)\n",
    "    df_encode_encrypt = pd.DataFrame(res_encode_encrypt)\n",
    "\n",
    "    df = df_encode.merge(df_encode_encrypt, how='outer', on=['system', 'encoding', 'config'])\n",
    "    \n",
    "    \n",
    "    df[\"rt_encrypt_us\"] = df[\"rt_encode_encrypt_us\"] - df[\"rt_encode_us\"]\n",
    "    df[\"encode_percent\"] = df[\"rt_encode_us\"] / df[\"rt_encode_encrypt_us\"]\n",
    "    df[\"encrypt_percent\"] = 1 - df[\"encode_percent\"] \n",
    "\n",
    "    df = df.round({'encode_percent': 2, 'encrypt_percent': 2})\n",
    "\n",
    "    df = df.sort_values([\"system\",\"rt_encode_encrypt_us\"])    \n",
    "    \n",
    "    # select the presented encodings\n",
    "    encodings =  [\"count\", \"sum\", \"avg\", \"var\", \"reg\", \"hist\"]\n",
    "    df = df[df[\"encoding\"].isin(encodings) & ((df[\"config\"]==\"-\")|(df[\"config\"]==\"10\"))]\n",
    "    \n",
    "    # project \n",
    "    df = df[[\"system\", \"encoding\", \"rt_encode_us\", \"rt_encrypt_us\", \"rt_encode_encrypt_stdev_us\", \"tp_encode_encrypt\"]]\n",
    "    return df\n",
    "\n",
    "def build_figure_5a(data, format_plot):\n",
    "    print(\"Figure 5a: EC2 Instance\")\n",
    "    df1 = data[data[\"system\"]==\"ubuntu\"]\n",
    "    df1 = df1[df1.encoding.isin([\"sum\", \"avg\", \"var\", \"reg\", \"hist\"])]\n",
    "    _build_stacked_barchart(values1=df1[\"rt_encode_us\"], label1=\"Encode\",\n",
    "                            values2=df1[\"rt_encrypt_us\"], label2=\"Encrypt\",\n",
    "                            err=df1[\"rt_encode_encrypt_stdev_us\"],\n",
    "                            labels=df1[\"encoding\"], y_label=\"Computation [μs]\", ytick_base=0.4, format_plot=format_plot)\n",
    "    \n",
    "\n",
    "def build_figure_5b(data):\n",
    "    print(\"Figure 5b: EC2 Raspberry Pi\")\n",
    "    \n",
    "    df1 = data[data[\"system\"]==\"raspbian\"] \n",
    "    df1 = df1[df1.encoding.isin([\"sum\", \"avg\", \"var\", \"reg\", \"hist\"])]\n",
    "\n",
    "    _build_stacked_barchart(values1=df1[\"rt_encode_us\"], label1=\"Encode\",\n",
    "                            values2=df1[\"rt_encrypt_us\"], label2=\"Encrypt\",\n",
    "                            err=df1[\"rt_encode_encrypt_stdev_us\"],\n",
    "                            labels=df1[\"encoding\"], y_label=\"Computation [μs]\", ytick_base=20)\n",
    "    \n",
    "def build_producer_bandwidth_df(timestamp_bytes=8, value_bytes=8, num_buckets=10):\n",
    "    # both the timestamp and a value is represented by a long (8 bytes)\n",
    "    # for encodings based on buckets (hist, max, min), we use as stated by default 10 buckets\n",
    "\n",
    "    encodings = [(\"sum\", 1), (\"count\", 1), (\"avg\", 2), (\"var\", 3), (\"hist\", num_buckets), (\"max\", num_buckets), (\"min\", num_buckets), (\"reg\", 5)]\n",
    "    results = []\n",
    "\n",
    "    plaintext_bytes  = value_bytes + timestamp_bytes\n",
    "\n",
    "    for name, fields in encodings:\n",
    "        d = {\n",
    "            \"encoding\": name,\n",
    "            \"fields\": fields,\n",
    "            \"size_bytes\": fields * value_bytes + 2 * timestamp_bytes,\n",
    "        }\n",
    "        results.append(d)\n",
    "\n",
    "    df = pd.DataFrame(results)\n",
    "    df[\"expansion_factor\"] = df[\"size_bytes\"] / plaintext_bytes\n",
    "    \n",
    "    df = df[df.encoding.isin([\"sum\", \"avg\", \"var\", \"reg\", \"hist\"])]\n",
    "    df = df.transpose()\n",
    "    return df\n",
    "\n",
    "\n",
    "    \n",
    "    \n",
    "def _build_stacked_barchart(values1, label1, values2, label2, labels, err, y_label, ytick_base=1, x_label=None, format_plot=True):\n",
    "    \n",
    "    \n",
    "    plt_params = {'backend': 'ps',\n",
    "              'axes.labelsize': 20,\n",
    "              'legend.fontsize': 16,\n",
    "              'xtick.labelsize': 18,\n",
    "              'ytick.labelsize': 18,\n",
    "              'font.size': 18,\n",
    "              'figure.figsize': [4.151100041511, 2.736555644111891],\n",
    "              'font.family': 'times new roman'}\n",
    "    \n",
    "    plt.rc('pdf', fonttype=42) \n",
    "    plt.rcParams.update(plt_params)\n",
    "    \n",
    "    colors=['0.3', '0.6']\n",
    "    \n",
    "    \n",
    "    f, ax1 = plt.subplots()\n",
    "\n",
    "    \n",
    "    ind = np.arange(0, len(labels)) * 1.2\n",
    "    width = 0.8\n",
    "    \n",
    "    bars1 = ax1.bar(ind, values1, width, label=label1, zorder=3)\n",
    "    bars2 = ax1.bar(ind, values2, width, yerr=err ,bottom=values1, label=label2, zorder=3, capsize=3)\n",
    "\n",
    "    for id, bar in enumerate(bars1):\n",
    "        bar.set_facecolor(colors[0])\n",
    "    \n",
    "    for id, bar in enumerate(bars2):\n",
    "        bar.set_facecolor(colors[1])\n",
    "    \n",
    "            \n",
    "    ax1.legend()\n",
    "    \n",
    "    # format x axis\n",
    "    ax1.set_xlabel(x_label)\n",
    "    ax1.set_xticks(ind)\n",
    "    ax1.set_xticklabels(labels, rotation=345)\n",
    "    \n",
    "    # format y axis\n",
    "    ax1.set_ylabel(y_label)\n",
    "    ax1.set_ylim(ymin=0)\n",
    "\n",
    "    \n",
    "    ax1.yaxis.grid(True, linestyle=':', color='0.6', zorder=0, linewidth=1.2)\n",
    "    \n",
    "    if ytick_base is not None and format_plot:\n",
    "        loc = plticker.MultipleLocator(base=ytick_base)\n",
    "        ax1.yaxis.set_major_locator(loc)\n",
    "    \n",
    "    plt.show()\n",
    "    print(\"\\n\")\n",
    "\n"
   ]
  },
  {
   "cell_type": "code",
   "execution_count": 12,
   "id": "animal-heating",
   "metadata": {
    "tags": []
   },
   "outputs": [
    {
     "data": {
      "text/markdown": [
       "#### Paper Results"
      ],
      "text/plain": [
       "<IPython.core.display.Markdown object>"
      ]
     },
     "metadata": {},
     "output_type": "display_data"
    },
    {
     "name": "stdout",
     "output_type": "stream",
     "text": [
      "Figure 5a: EC2 Instance\n"
     ]
    },
    {
     "data": {
      "image/png": "[encoded data removed]",
      "text/plain": [
       "<Figure size 298.879x197.032 with 1 Axes>"
      ]
     },
     "metadata": {
      "needs_background": "light"
     },
     "output_type": "display_data"
    },
    {
     "name": "stdout",
     "output_type": "stream",
     "text": [
      "\n",
      "\n",
      "Figure 5b: EC2 Raspberry Pi\n"
     ]
    },
    {
     "data": {
      "image/png": "[encoded data removed]",
      "text/plain": [
       "<Figure size 298.879x197.032 with 1 Axes>"
      ]
     },
     "metadata": {
      "needs_background": "light"
     },
     "output_type": "display_data"
    },
    {
     "name": "stdout",
     "output_type": "stream",
     "text": [
      "\n",
      "\n"
     ]
    },
    {
     "data": {
      "text/html": [
       "<div>\n",
       "<style scoped>\n",
       "    .dataframe tbody tr th:only-of-type {\n",
       "        vertical-align: middle;\n",
       "    }\n",
       "\n",
       "    .dataframe tbody tr th {\n",
       "        vertical-align: top;\n",
       "    }\n",
       "\n",
       "    .dataframe thead th {\n",
       "        text-align: right;\n",
       "    }\n",
       "</style>\n",
       "<table border=\"1\" class=\"dataframe\">\n",
       "  <thead>\n",
       "    <tr style=\"text-align: right;\">\n",
       "      <th></th>\n",
       "      <th>system</th>\n",
       "      <th>encoding</th>\n",
       "      <th>rt_encode_us</th>\n",
       "      <th>rt_encrypt_us</th>\n",
       "      <th>rt_encode_encrypt_stdev_us</th>\n",
       "      <th>tp_encode_encrypt</th>\n",
       "    </tr>\n",
       "  </thead>\n",
       "  <tbody>\n",
       "    <tr>\n",
       "      <th>12</th>\n",
       "      <td>raspbian</td>\n",
       "      <td>count</td>\n",
       "      <td>0.142254</td>\n",
       "      <td>12.913445</td>\n",
       "      <td>1.186721</td>\n",
       "      <td>76594</td>\n",
       "    </tr>\n",
       "    <tr>\n",
       "      <th>11</th>\n",
       "      <td>raspbian</td>\n",
       "      <td>sum</td>\n",
       "      <td>0.196692</td>\n",
       "      <td>15.404380</td>\n",
       "      <td>0.464332</td>\n",
       "      <td>64098</td>\n",
       "    </tr>\n",
       "    <tr>\n",
       "      <th>13</th>\n",
       "      <td>raspbian</td>\n",
       "      <td>avg</td>\n",
       "      <td>0.252038</td>\n",
       "      <td>21.346736</td>\n",
       "      <td>2.917521</td>\n",
       "      <td>46298</td>\n",
       "    </tr>\n",
       "    <tr>\n",
       "      <th>14</th>\n",
       "      <td>raspbian</td>\n",
       "      <td>var</td>\n",
       "      <td>0.393480</td>\n",
       "      <td>29.369783</td>\n",
       "      <td>3.549119</td>\n",
       "      <td>33598</td>\n",
       "    </tr>\n",
       "    <tr>\n",
       "      <th>21</th>\n",
       "      <td>raspbian</td>\n",
       "      <td>reg</td>\n",
       "      <td>0.569529</td>\n",
       "      <td>63.558873</td>\n",
       "      <td>3.478552</td>\n",
       "      <td>15593</td>\n",
       "    </tr>\n",
       "    <tr>\n",
       "      <th>16</th>\n",
       "      <td>raspbian</td>\n",
       "      <td>hist</td>\n",
       "      <td>1.083401</td>\n",
       "      <td>93.985279</td>\n",
       "      <td>13.259081</td>\n",
       "      <td>10518</td>\n",
       "    </tr>\n",
       "    <tr>\n",
       "      <th>1</th>\n",
       "      <td>ubuntu</td>\n",
       "      <td>count</td>\n",
       "      <td>0.006086</td>\n",
       "      <td>0.181359</td>\n",
       "      <td>0.000120</td>\n",
       "      <td>5334897</td>\n",
       "    </tr>\n",
       "    <tr>\n",
       "      <th>0</th>\n",
       "      <td>ubuntu</td>\n",
       "      <td>sum</td>\n",
       "      <td>0.009204</td>\n",
       "      <td>0.181986</td>\n",
       "      <td>0.000872</td>\n",
       "      <td>5230389</td>\n",
       "    </tr>\n",
       "    <tr>\n",
       "      <th>2</th>\n",
       "      <td>ubuntu</td>\n",
       "      <td>avg</td>\n",
       "      <td>0.013471</td>\n",
       "      <td>0.369522</td>\n",
       "      <td>0.000307</td>\n",
       "      <td>2611013</td>\n",
       "    </tr>\n",
       "    <tr>\n",
       "      <th>3</th>\n",
       "      <td>ubuntu</td>\n",
       "      <td>var</td>\n",
       "      <td>0.017864</td>\n",
       "      <td>0.557062</td>\n",
       "      <td>0.000272</td>\n",
       "      <td>1739354</td>\n",
       "    </tr>\n",
       "    <tr>\n",
       "      <th>10</th>\n",
       "      <td>ubuntu</td>\n",
       "      <td>reg</td>\n",
       "      <td>0.025515</td>\n",
       "      <td>0.901807</td>\n",
       "      <td>0.009513</td>\n",
       "      <td>1078373</td>\n",
       "    </tr>\n",
       "    <tr>\n",
       "      <th>5</th>\n",
       "      <td>ubuntu</td>\n",
       "      <td>hist</td>\n",
       "      <td>0.092393</td>\n",
       "      <td>1.771365</td>\n",
       "      <td>0.017900</td>\n",
       "      <td>536550</td>\n",
       "    </tr>\n",
       "  </tbody>\n",
       "</table>\n",
       "</div>"
      ],
      "text/plain": [
       "      system encoding  rt_encode_us  rt_encrypt_us  \\\n",
       "12  raspbian    count      0.142254      12.913445   \n",
       "11  raspbian      sum      0.196692      15.404380   \n",
       "13  raspbian      avg      0.252038      21.346736   \n",
       "14  raspbian      var      0.393480      29.369783   \n",
       "21  raspbian      reg      0.569529      63.558873   \n",
       "16  raspbian     hist      1.083401      93.985279   \n",
       "1     ubuntu    count      0.006086       0.181359   \n",
       "0     ubuntu      sum      0.009204       0.181986   \n",
       "2     ubuntu      avg      0.013471       0.369522   \n",
       "3     ubuntu      var      0.017864       0.557062   \n",
       "10    ubuntu      reg      0.025515       0.901807   \n",
       "5     ubuntu     hist      0.092393       1.771365   \n",
       "\n",
       "    rt_encode_encrypt_stdev_us  tp_encode_encrypt  \n",
       "12                    1.186721              76594  \n",
       "11                    0.464332              64098  \n",
       "13                    2.917521              46298  \n",
       "14                    3.549119              33598  \n",
       "21                    3.478552              15593  \n",
       "16                   13.259081              10518  \n",
       "1                     0.000120            5334897  \n",
       "0                     0.000872            5230389  \n",
       "2                     0.000307            2611013  \n",
       "3                     0.000272            1739354  \n",
       "10                    0.009513            1078373  \n",
       "5                     0.017900             536550  "
      ]
     },
     "metadata": {},
     "output_type": "display_data"
    },
    {
     "data": {
      "text/markdown": [
       "---"
      ],
      "text/plain": [
       "<IPython.core.display.Markdown object>"
      ]
     },
     "metadata": {},
     "output_type": "display_data"
    },
    {
     "data": {
      "text/markdown": [
       "#### AWS Results"
      ],
      "text/plain": [
       "<IPython.core.display.Markdown object>"
      ]
     },
     "metadata": {},
     "output_type": "display_data"
    },
    {
     "name": "stdout",
     "output_type": "stream",
     "text": [
      "does not exist yet\n"
     ]
    },
    {
     "data": {
      "text/markdown": [
       "---"
      ],
      "text/plain": [
       "<IPython.core.display.Markdown object>"
      ]
     },
     "metadata": {},
     "output_type": "display_data"
    },
    {
     "data": {
      "text/markdown": [
       "#### Local Results"
      ],
      "text/plain": [
       "<IPython.core.display.Markdown object>"
      ]
     },
     "metadata": {},
     "output_type": "display_data"
    },
    {
     "name": "stdout",
     "output_type": "stream",
     "text": [
      "does not exist yet\n"
     ]
    },
    {
     "data": {
      "text/markdown": [
       "---"
      ],
      "text/plain": [
       "<IPython.core.display.Markdown object>"
      ]
     },
     "metadata": {},
     "output_type": "display_data"
    },
    {
     "data": {
      "text/markdown": [
       "#### Bandwidth"
      ],
      "text/plain": [
       "<IPython.core.display.Markdown object>"
      ]
     },
     "metadata": {},
     "output_type": "display_data"
    },
    {
     "data": {
      "text/html": [
       "<div>\n",
       "<style scoped>\n",
       "    .dataframe tbody tr th:only-of-type {\n",
       "        vertical-align: middle;\n",
       "    }\n",
       "\n",
       "    .dataframe tbody tr th {\n",
       "        vertical-align: top;\n",
       "    }\n",
       "\n",
       "    .dataframe thead th {\n",
       "        text-align: right;\n",
       "    }\n",
       "</style>\n",
       "<table border=\"1\" class=\"dataframe\">\n",
       "  <thead>\n",
       "    <tr style=\"text-align: right;\">\n",
       "      <th></th>\n",
       "      <th>0</th>\n",
       "      <th>2</th>\n",
       "      <th>3</th>\n",
       "      <th>4</th>\n",
       "      <th>7</th>\n",
       "    </tr>\n",
       "  </thead>\n",
       "  <tbody>\n",
       "    <tr>\n",
       "      <th>encoding</th>\n",
       "      <td>sum</td>\n",
       "      <td>avg</td>\n",
       "      <td>var</td>\n",
       "      <td>hist</td>\n",
       "      <td>reg</td>\n",
       "    </tr>\n",
       "    <tr>\n",
       "      <th>fields</th>\n",
       "      <td>1</td>\n",
       "      <td>2</td>\n",
       "      <td>3</td>\n",
       "      <td>10</td>\n",
       "      <td>5</td>\n",
       "    </tr>\n",
       "    <tr>\n",
       "      <th>size_bytes</th>\n",
       "      <td>24</td>\n",
       "      <td>32</td>\n",
       "      <td>40</td>\n",
       "      <td>96</td>\n",
       "      <td>56</td>\n",
       "    </tr>\n",
       "    <tr>\n",
       "      <th>expansion_factor</th>\n",
       "      <td>1.5</td>\n",
       "      <td>2.0</td>\n",
       "      <td>2.5</td>\n",
       "      <td>6.0</td>\n",
       "      <td>3.5</td>\n",
       "    </tr>\n",
       "  </tbody>\n",
       "</table>\n",
       "</div>"
      ],
      "text/plain": [
       "                    0    2    3     4    7\n",
       "encoding          sum  avg  var  hist  reg\n",
       "fields              1    2    3    10    5\n",
       "size_bytes         24   32   40    96   56\n",
       "expansion_factor  1.5  2.0  2.5   6.0  3.5"
      ]
     },
     "metadata": {},
     "output_type": "display_data"
    }
   ],
   "source": [
    "file_d = {\"paper\": \"figure5_out.json\", \"aws\": \"jmh-microbenchmark-results_0.json\", \"local\": \"figure5_out.json\"}\n",
    "\n",
    "def output(source):\n",
    "    \n",
    "    df = build_figure5_df(file=get_result_path(source.lower(), file_d))\n",
    "    \n",
    "    display(Markdown(f\"#### {source} Results\"))\n",
    "    \n",
    "    if df is None:\n",
    "        print(\"does not exist yet\")\n",
    "    else:\n",
    "        build_figure_5a(data=df, format_plot=source!=\"Local\")\n",
    "        if source == \"Paper\": # raspberry pi only for paper\n",
    "            build_figure_5b(data=df)\n",
    "        display(df)\n",
    "    \n",
    "    display(Markdown(\"---\"))\n",
    "\n",
    "for source in [\"Paper\",\"AWS\",\"Local\"]:\n",
    "    output(source)\n",
    "\n",
    "display(Markdown(f\"#### Bandwidth\"))\n",
    "df_bandwidth = build_producer_bandwidth_df()\n",
    "display(df_bandwidth)"
   ]
  },
  {
   "cell_type": "markdown",
   "id": "innocent-engineering",
   "metadata": {},
   "source": [
    "### Privacy Controller - Setup Phase (Table 1)\n",
    "\n",
    "Code Marker: [ECDHBenchmark.java](zeph-benchmarks/zeph-microbenchmarks/src/main/java/ch/ethz/infk/pps/zeph/benchmark/crypto/ECDHBenchmark.java)\n",
    "\n",
    "#### `Optional:` Run the Microbenchmark for Table 1 locally (~10 min)"
   ]
  },
  {
   "cell_type": "code",
   "execution_count": 13,
   "id": "musical-ethernet",
   "metadata": {
    "scrolled": true,
    "tags": []
   },
   "outputs": [
    {
     "data": {
      "text/markdown": [
       "Done! Cleared output for conciseness ([Show Cell Output](logs/table1.log))"
      ],
      "text/plain": [
       "<IPython.core.display.Markdown object>"
      ]
     },
     "metadata": {},
     "output_type": "display_data"
    },
    {
     "name": "stdout",
     "output_type": "stream",
     "text": [
      "CPU times: user 4.58 ms, sys: 182 µs, total: 4.76 ms\n",
      "Wall time: 4.24 ms\n"
     ]
    }
   ],
   "source": [
    "%%time\n",
    "# Run the Microbenchmark for Table 1 locally (~10 min)\n",
    "\n",
    "#!java -jar zeph-benchmarks/zeph-microbenchmarks/target/zeph-microbenchmarks-1.0.jar testECDH -rf json -rff results/review-results/local/table1_out.json 2>&1 | tee logs/table1.log\n",
    "\n",
    "clear_output()\n",
    "display(Markdown(\"Done! Cleared output for conciseness ([Show Cell Output](logs/table1.log))\"))"
   ]
  },
  {
   "cell_type": "markdown",
   "id": "seventh-trial",
   "metadata": {},
   "source": [
    "#### Description \n",
    "In the setup phase of the secure aggregation protocol, all involved privacy controllers participate in a Diffie-Hellman Key Exchange (ECDH).  \n",
    "We benchmark the computational cost for a single key exchange and extrapolate the cost for all key exchanges. \n",
    "The bandwidth and storage requirements are estimated based on the size of the keys that need to be distributed and stored. "
   ]
  },
  {
   "cell_type": "code",
   "execution_count": 14,
   "id": "unusual-tuning",
   "metadata": {
    "jupyter": {
     "source_hidden": true
    },
    "tags": []
   },
   "outputs": [],
   "source": [
    "def build_table1_df(file, config):\n",
    "    \n",
    "    n_privacy_controllers = [100, 1000, 10000, 100000]\n",
    "    \n",
    "    df_ecdh = load_ecdh(n_privacy_controllers=n_privacy_controllers, result_file=file)\n",
    "    \n",
    "    if df_ecdh is None:\n",
    "        return None\n",
    "    df_size = load_size_estimates(n_privacy_controllers=n_privacy_controllers, config=config)\n",
    "\n",
    "    df = df_ecdh.merge(df_size, how='outer', on=['n_privacy_controller'])\n",
    "    df['others'] = df['n_privacy_controller']-1\n",
    "    \n",
    "    \n",
    "    df = df[['n_privacy_controller', 'ecdh_public_key_bytes', 'ecdh_public_key_mb_global', 'shared_keys_bytes', 'ecdh_latency_ms', 'ecdh_latency_global_ms']]\n",
    "    \n",
    "    df = df.rename(columns={\"ecdh_public_key_bytes\": \"Bandwidth [bytes]\", \"ecdh_public_key_mb_global\": \"Bandwidth Total [MB]\", \"shared_keys_bytes\": \"Shared Keys [bytes]\", 'ecdh_latency_ms': \"ECDH [ms]\", 'ecdh_latency_global_ms': \"ECDH Total [ms]\"})\n",
    "\n",
    "    return df\n",
    "\n",
    "\n",
    "def load_ecdh(n_privacy_controllers, result_file):\n",
    "    try:\n",
    "        with open(result_file) as json_file:\n",
    "            data = json.load(json_file)\n",
    "    except (FileNotFoundError, ValueError) as e:\n",
    "        return None\n",
    "    \n",
    "    results = []\n",
    "    \n",
    "    for exp in data:\n",
    "        benchmark = exp['benchmark'].split(\".\")[-1]\n",
    "        if benchmark == \"testECDH\" and exp['mode']==\"avgt\":\n",
    "            ms_per_op = exp[\"primaryMetric\"][\"score\"] * 1000  \n",
    "            for n_pc in n_privacy_controllers:\n",
    "                d = {\n",
    "                    \"n_privacy_controller\": n_pc,\n",
    "                    \"ecdh_latency_ms\": (n_pc-1) * ms_per_op,\n",
    "                    \"ecdh_latency_global_ms\": n_pc*(n_pc-1) * ms_per_op\n",
    "                }\n",
    "                results.append(d)\n",
    "    df = pd.DataFrame(results)\n",
    "    return df\n",
    "\n",
    "\n",
    "def load_size_estimates(n_privacy_controllers, config):\n",
    "    \n",
    "    results = []\n",
    "    for n_pc in n_privacy_controllers:\n",
    "        d = {\n",
    "            \"n_privacy_controller\": n_pc,\n",
    "            \"certs_bytes\": config[\"x509_ecdh_certificate_bytes\"] * (n_pc-1),\n",
    "            \"ecdh_public_key_bytes\": config[\"ecdh_public_key_bytes\"] * (n_pc-1),\n",
    "            \"shared_keys_bytes\": config[\"shared_key_bytes\"] * (n_pc-1),\n",
    "            \"private_key_bytes\": config[\"ecdh_private_key_bytes\"],\n",
    "            #\"token_per_window_bytes\": config[\"number_of_fields\"] * config[\"field_bytes\"] * n_pc,\n",
    "            #\"values_per_window_mb\": config[\"number_of_fields\"] * config[\"field_bytes\"] * n_pc * config[\"number_of_values_per_window\"] * 10**(-6)\n",
    "        }\n",
    "        results.append(d)\n",
    "\n",
    "    df = pd.DataFrame(results)\n",
    "\n",
    "    df['shared_keys_mb'] =  df['shared_keys_bytes'] * 10**(-6)\n",
    "    df['certs_mb'] =  df['certs_bytes'] * 10**(-6)\n",
    "\n",
    "    df['certs_mb_global'] =  df['certs_bytes'] * 10**(-6) * df['n_privacy_controller']\n",
    "    df['certs_gb_global'] =  df['certs_bytes'] * 10**(-9) * df['n_privacy_controller']\n",
    "\n",
    "    df['ecdh_public_key_mb_global'] =  df['ecdh_public_key_bytes'] * 10**(-6) * df['n_privacy_controller']\n",
    "    \n",
    "    return df\n",
    "\n"
   ]
  },
  {
   "cell_type": "code",
   "execution_count": 15,
   "id": "bored-stake",
   "metadata": {},
   "outputs": [
    {
     "data": {
      "text/markdown": [
       "#### Paper Results"
      ],
      "text/plain": [
       "<IPython.core.display.Markdown object>"
      ]
     },
     "metadata": {},
     "output_type": "display_data"
    },
    {
     "data": {
      "text/html": [
       "<div>\n",
       "<style scoped>\n",
       "    .dataframe tbody tr th:only-of-type {\n",
       "        vertical-align: middle;\n",
       "    }\n",
       "\n",
       "    .dataframe tbody tr th {\n",
       "        vertical-align: top;\n",
       "    }\n",
       "\n",
       "    .dataframe thead th {\n",
       "        text-align: right;\n",
       "    }\n",
       "</style>\n",
       "<table border=\"1\" class=\"dataframe\">\n",
       "  <thead>\n",
       "    <tr style=\"text-align: right;\">\n",
       "      <th></th>\n",
       "      <th>n_privacy_controller</th>\n",
       "      <th>Bandwidth [bytes]</th>\n",
       "      <th>Bandwidth Total [MB]</th>\n",
       "      <th>Shared Keys [bytes]</th>\n",
       "      <th>ECDH [ms]</th>\n",
       "      <th>ECDH Total [ms]</th>\n",
       "    </tr>\n",
       "  </thead>\n",
       "  <tbody>\n",
       "    <tr>\n",
       "      <th>0</th>\n",
       "      <td>100</td>\n",
       "      <td>9009</td>\n",
       "      <td>0.9009</td>\n",
       "      <td>3168</td>\n",
       "      <td>24.691225</td>\n",
       "      <td>2.469123e+03</td>\n",
       "    </tr>\n",
       "    <tr>\n",
       "      <th>1</th>\n",
       "      <td>1000</td>\n",
       "      <td>90909</td>\n",
       "      <td>90.9090</td>\n",
       "      <td>31968</td>\n",
       "      <td>249.156907</td>\n",
       "      <td>2.491569e+05</td>\n",
       "    </tr>\n",
       "    <tr>\n",
       "      <th>2</th>\n",
       "      <td>10000</td>\n",
       "      <td>909909</td>\n",
       "      <td>9099.0900</td>\n",
       "      <td>319968</td>\n",
       "      <td>2493.813727</td>\n",
       "      <td>2.493814e+07</td>\n",
       "    </tr>\n",
       "    <tr>\n",
       "      <th>3</th>\n",
       "      <td>100000</td>\n",
       "      <td>9099909</td>\n",
       "      <td>909990.9000</td>\n",
       "      <td>3199968</td>\n",
       "      <td>24940.381926</td>\n",
       "      <td>2.494038e+09</td>\n",
       "    </tr>\n",
       "  </tbody>\n",
       "</table>\n",
       "</div>"
      ],
      "text/plain": [
       "   n_privacy_controller  Bandwidth [bytes]  Bandwidth Total [MB]  \\\n",
       "0                   100               9009                0.9009   \n",
       "1                  1000              90909               90.9090   \n",
       "2                 10000             909909             9099.0900   \n",
       "3                100000            9099909           909990.9000   \n",
       "\n",
       "   Shared Keys [bytes]     ECDH [ms]  ECDH Total [ms]  \n",
       "0                 3168     24.691225     2.469123e+03  \n",
       "1                31968    249.156907     2.491569e+05  \n",
       "2               319968   2493.813727     2.493814e+07  \n",
       "3              3199968  24940.381926     2.494038e+09  "
      ]
     },
     "metadata": {},
     "output_type": "display_data"
    },
    {
     "data": {
      "text/markdown": [
       "---"
      ],
      "text/plain": [
       "<IPython.core.display.Markdown object>"
      ]
     },
     "metadata": {},
     "output_type": "display_data"
    },
    {
     "data": {
      "text/markdown": [
       "#### AWS Results"
      ],
      "text/plain": [
       "<IPython.core.display.Markdown object>"
      ]
     },
     "metadata": {},
     "output_type": "display_data"
    },
    {
     "name": "stdout",
     "output_type": "stream",
     "text": [
      "does not exist yet\n"
     ]
    },
    {
     "data": {
      "text/markdown": [
       "---"
      ],
      "text/plain": [
       "<IPython.core.display.Markdown object>"
      ]
     },
     "metadata": {},
     "output_type": "display_data"
    },
    {
     "data": {
      "text/markdown": [
       "#### Local Results"
      ],
      "text/plain": [
       "<IPython.core.display.Markdown object>"
      ]
     },
     "metadata": {},
     "output_type": "display_data"
    },
    {
     "name": "stdout",
     "output_type": "stream",
     "text": [
      "does not exist yet\n"
     ]
    },
    {
     "data": {
      "text/markdown": [
       "---"
      ],
      "text/plain": [
       "<IPython.core.display.Markdown object>"
      ]
     },
     "metadata": {},
     "output_type": "display_data"
    }
   ],
   "source": [
    "file_d = {\"paper\": \"table1_out.json\", \"aws\": \"jmh-microbenchmark-results_0.json\", \"local\": \"table1_out.json\"}\n",
    "\n",
    "# numbers for ecdh_curve secp256r1 in Java\n",
    "config = {\n",
    "    \"ecdh_private_key_bytes\": 150,\n",
    "    \"ecdh_public_key_bytes\": 91,\n",
    "    \"x509_ecdh_certificate_bytes\": 366,\n",
    "    \"shared_key_bytes\": 32,\n",
    "}\n",
    "\n",
    "\n",
    "def output(source):\n",
    "    \n",
    "    df = build_table1_df(file=get_result_path(source.lower(), file_d), config=config)\n",
    "    \n",
    "    display(Markdown(f\"#### {source} Results\"))\n",
    "    \n",
    "    if df is None:\n",
    "        print(\"does not exist yet\")\n",
    "    else:\n",
    "        display(df)\n",
    "    \n",
    "    display(Markdown(\"---\"))\n",
    "\n",
    "for source in [\"Paper\",\"AWS\",\"Local\"]:\n",
    "    output(source)\n"
   ]
  },
  {
   "cell_type": "markdown",
   "id": "immune-zealand",
   "metadata": {},
   "source": [
    "### Privacy Controller - Transformation Phase: Secure Aggregation Optimization  (Figure 6)\n",
    "\n",
    "Code Marker: [TransformationTokenNativeBenchmark.java](zeph-benchmarks/zeph-microbenchmarks/src/main/java/ch/ethz/infk/pps/zeph/benchmark/crypto/TransformationTokenNativeBenchmark.java)\n",
    "\n",
    "#### `Optional:` Run the Microbenchmark for Figure 6 locally (~3h)"
   ]
  },
  {
   "cell_type": "code",
   "execution_count": 16,
   "id": "settled-anaheim",
   "metadata": {
    "jupyter": {
     "source_hidden": true
    },
    "tags": []
   },
   "outputs": [
    {
     "data": {
      "text/html": [
       " <a href=\"\", data-commandlinker-command=\"terminal:create-new\" >Open new Terminal</a> (alternative to execute shell command in a blocking cell)"
      ],
      "text/plain": [
       "<IPython.core.display.HTML object>"
      ]
     },
     "execution_count": 16,
     "metadata": {},
     "output_type": "execute_result"
    }
   ],
   "source": [
    "HTML(' <a href=\"\", data-commandlinker-command=\"terminal:create-new\" >Open new Terminal</a> (alternative to execute shell command in a blocking cell)')"
   ]
  },
  {
   "cell_type": "code",
   "execution_count": 17,
   "id": "moderate-assault",
   "metadata": {
    "scrolled": true,
    "tags": []
   },
   "outputs": [
    {
     "data": {
      "text/markdown": [
       "Done! Cleared output for conciseness ([Show Cell Output](logs/figure6.log))"
      ],
      "text/plain": [
       "<IPython.core.display.Markdown object>"
      ]
     },
     "metadata": {},
     "output_type": "display_data"
    },
    {
     "name": "stdout",
     "output_type": "stream",
     "text": [
      "CPU times: user 6.23 ms, sys: 0 ns, total: 6.23 ms\n",
      "Wall time: 5.56 ms\n"
     ]
    }
   ],
   "source": [
    "%%time\n",
    "#!java -jar zeph-benchmarks/zeph-microbenchmarks/target/zeph-microbenchmarks-1.0.jar testErdosRenyiNative testDreamNative testStrawmanNative -rf json -rff results/review-results/local/figure6_out.json -p dataDir=data -p size_win=100_256,1000_512,2000_800,5000_1344,10000_2304,1000_1,1000_8,1000_16,1000_64,1000_128 2>&1 | tee logs/figure6.log\n",
    "\n",
    "clear_output()\n",
    "display(Markdown(\"Done! Cleared output for conciseness ([Show Cell Output](logs/figure6.log))\"))"
   ]
  },
  {
   "cell_type": "markdown",
   "id": "material-revolution",
   "metadata": {},
   "source": [
    "#### Description\n",
    "\n",
    "In the transformation phase, a privacy controller creates a token to authorize a transformation. \n",
    "For multi-stream aggregations, this involves a secure aggregation protocol to hide the decrpytion key with a mask.\n",
    "\n",
    "We benchmark the computational cost involved in creating such a token with the Strawman Secure Aggregation protocol, the Dream optimization, and the new Zeph optimization (in the code called `erdos_renyi (er)`."
   ]
  },
  {
   "cell_type": "code",
   "execution_count": 18,
   "id": "informative-creator",
   "metadata": {
    "jupyter": {
     "source_hidden": true
    },
    "tags": []
   },
   "outputs": [],
   "source": [
    "def build_figure6_df(file):\n",
    "    \n",
    "    try:\n",
    "        with open(file) as json_file:\n",
    "            data = json.load(json_file)\n",
    "    except (FileNotFoundError, ValueError) as e:\n",
    "        return None\n",
    "    \n",
    "    erdos_renyi = []\n",
    "    dream = []\n",
    "    strawman = []\n",
    "\n",
    "    optimal_w = {\n",
    "        \"100\": \"256\",\n",
    "        \"200\": \"256\",\n",
    "        \"500\": \"336\",\n",
    "        \"1000\": \"512\",\n",
    "        \"2000\": \"800\",\n",
    "        \"5000\": \"1344\",\n",
    "        \"10000\": \"2304\"\n",
    "    }\n",
    "\n",
    "    for x in data:\n",
    "        benchmark = x['benchmark'].split(\".\")[-1]\n",
    "\n",
    "        if benchmark not in ['testErdosRenyiNative', 'testStrawmanNative', 'testDreamNative']:\n",
    "            continue\n",
    "\n",
    "        size_win = x['params']['size_win'].split(\"_\")\n",
    "        parties = size_win[0]\n",
    "        rounds = size_win[1]\n",
    "        tp = x['secondaryMetrics']['count']['score']\n",
    "\n",
    "        avg_time_ms = 1 / (tp/1000)\n",
    "\n",
    "        rt_ms = 1/(x['secondaryMetrics']['count'][\"score\"]/1000)\n",
    "        rts_ms = [1/(x1/1000) for x1 in x['secondaryMetrics']['count'][\"rawData\"][0]]\n",
    "        rt_stddev_ms = stat.stdev(rts_ms)\n",
    "\n",
    "        tp_stddev = stat.stdev(x['secondaryMetrics']['count'][\"rawData\"][0])\n",
    "\n",
    "        d = {\"parties\": int(parties), \n",
    "             \"rounds\": int(rounds), \n",
    "             \"tp_rps\": float(tp), \n",
    "             \"avg_time_ms\": avg_time_ms,\n",
    "             \"tp_stddev\": tp_stddev,\n",
    "             \"avg_time_stddev\":rt_stddev_ms\n",
    "            }\n",
    "\n",
    "        if benchmark == 'testErdosRenyiNative':\n",
    "            d[\"opt_er\"] = optimal_w[parties] == rounds\n",
    "            erdos_renyi.append(d)\n",
    "        elif benchmark == 'testStrawmanNative':\n",
    "            strawman.append(d) \n",
    "        elif benchmark == 'testDreamNative':\n",
    "            dream.append(d)\n",
    "    \n",
    "    \n",
    "    df_dream = pd.DataFrame(dream).rename(columns={\"tp_rps\": \"tp_dream\", \"avg_time_ms\": \"avg_time_dream_ms\", \"tp_stddev\": \"tp_stddev_dream\", \"avg_time_stddev\": \"avg_time_stddev_dream\"})\n",
    "    df_strawman = pd.DataFrame(strawman).rename(columns={\"tp_rps\": \"tp_strawman\", \"avg_time_ms\": \"avg_time_strawman_ms\", \"tp_stddev\": \"tp_stddev_strawman\", \"avg_time_stddev\": \"avg_time_stddev_strawman\"})\n",
    "    df_erdos_renyi = pd.DataFrame(erdos_renyi).rename(columns={\"tp_rps\": \"tp_er\", \"avg_time_ms\": \"avg_time_er_ms\" ,\"tp_stddev\": \"tp_stddev_er\", \"avg_time_stddev\": \"avg_time_stddev_er\"})\n",
    "\n",
    "    df_prev = df_dream.merge(df_strawman, how='outer', on=['parties', 'rounds'])\n",
    "\n",
    "\n",
    "    df = df_prev.merge(df_erdos_renyi, how='outer', on=['parties', 'rounds'])\n",
    "    df.sort_values(by=['parties', 'rounds'], inplace=True)\n",
    "    \n",
    "    df = df[[\"parties\", \"rounds\", \"opt_er\", \n",
    "             \"avg_time_er_ms\", \"avg_time_stddev_er\", \n",
    "            \"avg_time_dream_ms\", \"avg_time_stddev_dream\",\n",
    "            \"avg_time_strawman_ms\", \"avg_time_stddev_strawman\"]]\n",
    "    \n",
    "    df[\"er_vs_strawman\"] = (df[\"avg_time_strawman_ms\"]/df[\"avg_time_er_ms\"]).apply(lambda x: f\"{int(round(x))}x\")\n",
    "    df[\"er_vs_dream\"] = (df[\"avg_time_dream_ms\"]/df[\"avg_time_er_ms\"]).apply(lambda x: f\"{int(round(x))}x\")\n",
    "    \n",
    "    return df\n",
    "    \n",
    "def build_figure_6a(data, format_plot):\n",
    "    \n",
    "    labels = []\n",
    "    for l in data[\"parties\"]:\n",
    "        if l >= 1000:\n",
    "            labels.append(str(int(l/1000)) + \"k\")\n",
    "        else:\n",
    "            labels.append(l)\n",
    "    \n",
    "    _barchart(labels=labels, x_label=\"Parties\", \n",
    "                values1=data['avg_time_er_ms'], label1=\"Zeph\", err1=data['avg_time_stddev_er'],\n",
    "                values2=data['avg_time_dream_ms'], label2=\"Dream\", err2=data['avg_time_stddev_dream'],\n",
    "                values3=data['avg_time_strawman_ms'], label3=\"Strawman\", err3=data['avg_time_stddev_strawman'],\n",
    "                ytick_base=0.5, format_plot=format_plot)\n",
    "    \n",
    "\n",
    "def build_figure_6b(data, format_plot):\n",
    "    labels = []\n",
    "    for l in data[\"rounds\"]:\n",
    "        if l >= 1000:\n",
    "            labels.append(str(int(l/1000)) + \"k\")\n",
    "        else:\n",
    "            labels.append(l)\n",
    "    \n",
    "    _barchart(labels=labels, x_label=\"Rounds\", \n",
    "                values1=data['avg_time_er_ms'], label1=\"Zeph\", err1=data['avg_time_stddev_er'],\n",
    "                values2=data['avg_time_dream_ms'], label2=\"Dream\", err2=data['avg_time_stddev_dream'],\n",
    "                values3=data['avg_time_strawman_ms'], label3=\"Strawman\", err3=data['avg_time_stddev_strawman'],\n",
    "                ytick_base=0.05, format_plot=format_plot)\n",
    "    \n",
    "    \n",
    "def _barchart(labels, x_label, \n",
    "                values1, label1, err1,\n",
    "                values2, label2, err2,\n",
    "                values3, label3, err3,\n",
    "                ytick_base=None,format_plot=True):\n",
    "\n",
    "    colors=['0.1', '0.45', '0.7']\n",
    "    \n",
    "    plt_params = {'backend': 'ps',\n",
    "              'axes.labelsize': 20,\n",
    "              'legend.fontsize': 16,\n",
    "              'xtick.labelsize': 18,\n",
    "              'ytick.labelsize': 18,\n",
    "              'font.size': 18,\n",
    "              'figure.figsize': [4.151100041511, 2.736555644111891],\n",
    "              'font.family': 'times new roman'}\n",
    "    \n",
    "    plt.rc('pdf', fonttype=42) \n",
    "    plt.rcParams.update(plt_params)\n",
    "    \n",
    "    f, ax1 = plt.subplots()\n",
    "    \n",
    "    ind = np.arange(0, len(labels)) * 1.2\n",
    "    bars1 = bars2 = bars3 = None\n",
    "    \n",
    "    capsize = 3\n",
    "    \n",
    "    width = 0.3  # the width of the bars\n",
    "    offset = width\n",
    "    bars1 = ax1.bar(ind - width, values1, width, label=label1, zorder=3, yerr=err1, capsize=capsize)\n",
    "    bars2 = ax1.bar(ind,         values2, width, label=label2, zorder=3, yerr=err2, capsize=capsize)\n",
    "    bars3 = ax1.bar(ind + width, values3, width, label=label3, zorder=3, yerr=err3, capsize=capsize)\n",
    "    min_value = min(values1 + values2 + values3)\n",
    "    max_value = max(values1 + values2 + values3) \n",
    "    \n",
    "\n",
    "    for id, bar in enumerate(bars1):\n",
    "        bar.set_facecolor(colors[0])\n",
    "    \n",
    "    if bars2:\n",
    "        for id, bar in enumerate(bars2):\n",
    "            bar.set_facecolor(colors[1])\n",
    "    \n",
    "    if bars3:\n",
    "        for id, bar in enumerate(bars3):\n",
    "            bar.set_facecolor(colors[2])\n",
    "    \n",
    "            \n",
    "    # format x axis\n",
    "    ax1.set_xlabel(x_label)\n",
    "    ax1.set_xticks(ind)\n",
    "    ax1.set_xticklabels(labels, rotation=345)\n",
    "    \n",
    "    legend = plt.legend(bbox_to_anchor=(0, 1.02,1, 0.2), loc=\"lower left\", mode=\"expand\")\n",
    "    \n",
    "    # format y axis\n",
    "    ax1.set_ylabel(\"Computation [ms]\")\n",
    "    if min_value > 400000 and max_value > 2000000:\n",
    "        ax1.yaxis.set_major_formatter(ticker.FuncFormatter(lambda y, pos: '%.1fM' % (y * 1e-6)))\n",
    "    \n",
    "    plt.gca().yaxis.grid(True, linestyle=':', color='0.6', zorder=0, linewidth=1.2)\n",
    "    \n",
    "    ax1.set_ylim(ymin=0, ymax=None)\n",
    "    \n",
    "    if format_plot:\n",
    "        loc = plticker.MultipleLocator(base=ytick_base)\n",
    "        ax1.yaxis.set_major_locator(loc)\n",
    "    \n",
    "    plt.show()"
   ]
  },
  {
   "cell_type": "code",
   "execution_count": 19,
   "id": "public-ivory",
   "metadata": {},
   "outputs": [
    {
     "data": {
      "text/markdown": [
       "#### Paper Results"
      ],
      "text/plain": [
       "<IPython.core.display.Markdown object>"
      ]
     },
     "metadata": {},
     "output_type": "display_data"
    },
    {
     "name": "stdout",
     "output_type": "stream",
     "text": [
      "Figure 6a: Average per Round\n"
     ]
    },
    {
     "data": {
      "image/png": "[encoded data removed]",
      "text/plain": [
       "<Figure size 298.879x197.032 with 1 Axes>"
      ]
     },
     "metadata": {
      "needs_background": "light"
     },
     "output_type": "display_data"
    },
    {
     "data": {
      "text/html": [
       "<div>\n",
       "<style scoped>\n",
       "    .dataframe tbody tr th:only-of-type {\n",
       "        vertical-align: middle;\n",
       "    }\n",
       "\n",
       "    .dataframe tbody tr th {\n",
       "        vertical-align: top;\n",
       "    }\n",
       "\n",
       "    .dataframe thead th {\n",
       "        text-align: right;\n",
       "    }\n",
       "</style>\n",
       "<table border=\"1\" class=\"dataframe\">\n",
       "  <thead>\n",
       "    <tr style=\"text-align: right;\">\n",
       "      <th></th>\n",
       "      <th>parties</th>\n",
       "      <th>rounds</th>\n",
       "      <th>opt_er</th>\n",
       "      <th>avg_time_er_ms</th>\n",
       "      <th>avg_time_stddev_er</th>\n",
       "      <th>avg_time_dream_ms</th>\n",
       "      <th>avg_time_stddev_dream</th>\n",
       "      <th>avg_time_strawman_ms</th>\n",
       "      <th>avg_time_stddev_strawman</th>\n",
       "      <th>er_vs_strawman</th>\n",
       "      <th>er_vs_dream</th>\n",
       "    </tr>\n",
       "  </thead>\n",
       "  <tbody>\n",
       "    <tr>\n",
       "      <th>25</th>\n",
       "      <td>100</td>\n",
       "      <td>256</td>\n",
       "      <td>True</td>\n",
       "      <td>0.014882</td>\n",
       "      <td>0.000049</td>\n",
       "      <td>0.020858</td>\n",
       "      <td>0.000067</td>\n",
       "      <td>0.024648</td>\n",
       "      <td>0.000081</td>\n",
       "      <td>2x</td>\n",
       "      <td>1x</td>\n",
       "    </tr>\n",
       "    <tr>\n",
       "      <th>10</th>\n",
       "      <td>1000</td>\n",
       "      <td>512</td>\n",
       "      <td>True</td>\n",
       "      <td>0.018208</td>\n",
       "      <td>0.000099</td>\n",
       "      <td>0.133560</td>\n",
       "      <td>0.000591</td>\n",
       "      <td>0.221207</td>\n",
       "      <td>0.000084</td>\n",
       "      <td>12x</td>\n",
       "      <td>7x</td>\n",
       "    </tr>\n",
       "    <tr>\n",
       "      <th>28</th>\n",
       "      <td>2000</td>\n",
       "      <td>800</td>\n",
       "      <td>True</td>\n",
       "      <td>0.018379</td>\n",
       "      <td>0.000074</td>\n",
       "      <td>0.250294</td>\n",
       "      <td>0.001180</td>\n",
       "      <td>0.441289</td>\n",
       "      <td>0.001595</td>\n",
       "      <td>24x</td>\n",
       "      <td>14x</td>\n",
       "    </tr>\n",
       "    <tr>\n",
       "      <th>29</th>\n",
       "      <td>5000</td>\n",
       "      <td>1344</td>\n",
       "      <td>True</td>\n",
       "      <td>0.022417</td>\n",
       "      <td>0.000098</td>\n",
       "      <td>0.622989</td>\n",
       "      <td>0.002355</td>\n",
       "      <td>1.089592</td>\n",
       "      <td>0.003651</td>\n",
       "      <td>49x</td>\n",
       "      <td>28x</td>\n",
       "    </tr>\n",
       "    <tr>\n",
       "      <th>23</th>\n",
       "      <td>10000</td>\n",
       "      <td>2304</td>\n",
       "      <td>True</td>\n",
       "      <td>0.023130</td>\n",
       "      <td>0.000028</td>\n",
       "      <td>1.263283</td>\n",
       "      <td>0.013793</td>\n",
       "      <td>2.227773</td>\n",
       "      <td>0.016268</td>\n",
       "      <td>96x</td>\n",
       "      <td>55x</td>\n",
       "    </tr>\n",
       "  </tbody>\n",
       "</table>\n",
       "</div>"
      ],
      "text/plain": [
       "    parties  rounds  opt_er  avg_time_er_ms  avg_time_stddev_er  \\\n",
       "25      100     256    True        0.014882            0.000049   \n",
       "10     1000     512    True        0.018208            0.000099   \n",
       "28     2000     800    True        0.018379            0.000074   \n",
       "29     5000    1344    True        0.022417            0.000098   \n",
       "23    10000    2304    True        0.023130            0.000028   \n",
       "\n",
       "    avg_time_dream_ms  avg_time_stddev_dream  avg_time_strawman_ms  \\\n",
       "25           0.020858               0.000067              0.024648   \n",
       "10           0.133560               0.000591              0.221207   \n",
       "28           0.250294               0.001180              0.441289   \n",
       "29           0.622989               0.002355              1.089592   \n",
       "23           1.263283               0.013793              2.227773   \n",
       "\n",
       "    avg_time_stddev_strawman er_vs_strawman er_vs_dream  \n",
       "25                  0.000081             2x          1x  \n",
       "10                  0.000084            12x          7x  \n",
       "28                  0.001595            24x         14x  \n",
       "29                  0.003651            49x         28x  \n",
       "23                  0.016268            96x         55x  "
      ]
     },
     "metadata": {},
     "output_type": "display_data"
    },
    {
     "name": "stdout",
     "output_type": "stream",
     "text": [
      "\n",
      "\n",
      "\n",
      "Figure 6b: Varied Rounds for 1k Parties\n"
     ]
    },
    {
     "data": {
      "image/png": "[encoded data removed]",
      "text/plain": [
       "<Figure size 298.879x197.032 with 1 Axes>"
      ]
     },
     "metadata": {
      "needs_background": "light"
     },
     "output_type": "display_data"
    },
    {
     "data": {
      "text/html": [
       "<div>\n",
       "<style scoped>\n",
       "    .dataframe tbody tr th:only-of-type {\n",
       "        vertical-align: middle;\n",
       "    }\n",
       "\n",
       "    .dataframe tbody tr th {\n",
       "        vertical-align: top;\n",
       "    }\n",
       "\n",
       "    .dataframe thead th {\n",
       "        text-align: right;\n",
       "    }\n",
       "</style>\n",
       "<table border=\"1\" class=\"dataframe\">\n",
       "  <thead>\n",
       "    <tr style=\"text-align: right;\">\n",
       "      <th></th>\n",
       "      <th>parties</th>\n",
       "      <th>rounds</th>\n",
       "      <th>opt_er</th>\n",
       "      <th>avg_time_er_ms</th>\n",
       "      <th>avg_time_stddev_er</th>\n",
       "      <th>avg_time_dream_ms</th>\n",
       "      <th>avg_time_stddev_dream</th>\n",
       "      <th>avg_time_strawman_ms</th>\n",
       "      <th>avg_time_stddev_strawman</th>\n",
       "      <th>er_vs_strawman</th>\n",
       "      <th>er_vs_dream</th>\n",
       "    </tr>\n",
       "  </thead>\n",
       "  <tbody>\n",
       "    <tr>\n",
       "      <th>4</th>\n",
       "      <td>1000</td>\n",
       "      <td>8</td>\n",
       "      <td>False</td>\n",
       "      <td>0.180647</td>\n",
       "      <td>0.001689</td>\n",
       "      <td>0.132006</td>\n",
       "      <td>0.000519</td>\n",
       "      <td>0.221286</td>\n",
       "      <td>0.000152</td>\n",
       "      <td>1x</td>\n",
       "      <td>1x</td>\n",
       "    </tr>\n",
       "    <tr>\n",
       "      <th>5</th>\n",
       "      <td>1000</td>\n",
       "      <td>16</td>\n",
       "      <td>False</td>\n",
       "      <td>0.099266</td>\n",
       "      <td>0.000382</td>\n",
       "      <td>0.131152</td>\n",
       "      <td>0.000601</td>\n",
       "      <td>0.220955</td>\n",
       "      <td>0.000066</td>\n",
       "      <td>2x</td>\n",
       "      <td>1x</td>\n",
       "    </tr>\n",
       "    <tr>\n",
       "      <th>7</th>\n",
       "      <td>1000</td>\n",
       "      <td>64</td>\n",
       "      <td>False</td>\n",
       "      <td>0.036403</td>\n",
       "      <td>0.000168</td>\n",
       "      <td>0.133543</td>\n",
       "      <td>0.000558</td>\n",
       "      <td>0.221561</td>\n",
       "      <td>0.000065</td>\n",
       "      <td>6x</td>\n",
       "      <td>4x</td>\n",
       "    </tr>\n",
       "    <tr>\n",
       "      <th>8</th>\n",
       "      <td>1000</td>\n",
       "      <td>128</td>\n",
       "      <td>False</td>\n",
       "      <td>0.025973</td>\n",
       "      <td>0.000005</td>\n",
       "      <td>0.133021</td>\n",
       "      <td>0.000474</td>\n",
       "      <td>0.221238</td>\n",
       "      <td>0.000126</td>\n",
       "      <td>9x</td>\n",
       "      <td>5x</td>\n",
       "    </tr>\n",
       "    <tr>\n",
       "      <th>10</th>\n",
       "      <td>1000</td>\n",
       "      <td>512</td>\n",
       "      <td>True</td>\n",
       "      <td>0.018208</td>\n",
       "      <td>0.000099</td>\n",
       "      <td>0.133560</td>\n",
       "      <td>0.000591</td>\n",
       "      <td>0.221207</td>\n",
       "      <td>0.000084</td>\n",
       "      <td>12x</td>\n",
       "      <td>7x</td>\n",
       "    </tr>\n",
       "  </tbody>\n",
       "</table>\n",
       "</div>"
      ],
      "text/plain": [
       "    parties  rounds  opt_er  avg_time_er_ms  avg_time_stddev_er  \\\n",
       "4      1000       8   False        0.180647            0.001689   \n",
       "5      1000      16   False        0.099266            0.000382   \n",
       "7      1000      64   False        0.036403            0.000168   \n",
       "8      1000     128   False        0.025973            0.000005   \n",
       "10     1000     512    True        0.018208            0.000099   \n",
       "\n",
       "    avg_time_dream_ms  avg_time_stddev_dream  avg_time_strawman_ms  \\\n",
       "4            0.132006               0.000519              0.221286   \n",
       "5            0.131152               0.000601              0.220955   \n",
       "7            0.133543               0.000558              0.221561   \n",
       "8            0.133021               0.000474              0.221238   \n",
       "10           0.133560               0.000591              0.221207   \n",
       "\n",
       "    avg_time_stddev_strawman er_vs_strawman er_vs_dream  \n",
       "4                   0.000152             1x          1x  \n",
       "5                   0.000066             2x          1x  \n",
       "7                   0.000065             6x          4x  \n",
       "8                   0.000126             9x          5x  \n",
       "10                  0.000084            12x          7x  "
      ]
     },
     "metadata": {},
     "output_type": "display_data"
    },
    {
     "name": "stdout",
     "output_type": "stream",
     "text": [
      "\n",
      " First Round:\n"
     ]
    },
    {
     "data": {
      "text/html": [
       "<div>\n",
       "<style scoped>\n",
       "    .dataframe tbody tr th:only-of-type {\n",
       "        vertical-align: middle;\n",
       "    }\n",
       "\n",
       "    .dataframe tbody tr th {\n",
       "        vertical-align: top;\n",
       "    }\n",
       "\n",
       "    .dataframe thead th {\n",
       "        text-align: right;\n",
       "    }\n",
       "</style>\n",
       "<table border=\"1\" class=\"dataframe\">\n",
       "  <thead>\n",
       "    <tr style=\"text-align: right;\">\n",
       "      <th></th>\n",
       "      <th>parties</th>\n",
       "      <th>rounds</th>\n",
       "      <th>opt_er</th>\n",
       "      <th>avg_time_er_ms</th>\n",
       "      <th>avg_time_stddev_er</th>\n",
       "      <th>avg_time_dream_ms</th>\n",
       "      <th>avg_time_stddev_dream</th>\n",
       "      <th>avg_time_strawman_ms</th>\n",
       "      <th>avg_time_stddev_strawman</th>\n",
       "      <th>er_vs_strawman</th>\n",
       "      <th>er_vs_dream</th>\n",
       "    </tr>\n",
       "  </thead>\n",
       "  <tbody>\n",
       "    <tr>\n",
       "      <th>3</th>\n",
       "      <td>1000</td>\n",
       "      <td>1</td>\n",
       "      <td>False</td>\n",
       "      <td>1.333075</td>\n",
       "      <td>0.00746</td>\n",
       "      <td>0.130519</td>\n",
       "      <td>0.000487</td>\n",
       "      <td>0.220113</td>\n",
       "      <td>0.000078</td>\n",
       "      <td>0x</td>\n",
       "      <td>0x</td>\n",
       "    </tr>\n",
       "  </tbody>\n",
       "</table>\n",
       "</div>"
      ],
      "text/plain": [
       "   parties  rounds  opt_er  avg_time_er_ms  avg_time_stddev_er  \\\n",
       "3     1000       1   False        1.333075             0.00746   \n",
       "\n",
       "   avg_time_dream_ms  avg_time_stddev_dream  avg_time_strawman_ms  \\\n",
       "3           0.130519               0.000487              0.220113   \n",
       "\n",
       "   avg_time_stddev_strawman er_vs_strawman er_vs_dream  \n",
       "3                  0.000078             0x          0x  "
      ]
     },
     "metadata": {},
     "output_type": "display_data"
    },
    {
     "data": {
      "text/markdown": [
       "---"
      ],
      "text/plain": [
       "<IPython.core.display.Markdown object>"
      ]
     },
     "metadata": {},
     "output_type": "display_data"
    },
    {
     "data": {
      "text/markdown": [
       "#### AWS Results"
      ],
      "text/plain": [
       "<IPython.core.display.Markdown object>"
      ]
     },
     "metadata": {},
     "output_type": "display_data"
    },
    {
     "name": "stdout",
     "output_type": "stream",
     "text": [
      "does not exist yet\n"
     ]
    },
    {
     "data": {
      "text/markdown": [
       "---"
      ],
      "text/plain": [
       "<IPython.core.display.Markdown object>"
      ]
     },
     "metadata": {},
     "output_type": "display_data"
    },
    {
     "data": {
      "text/markdown": [
       "#### Local Results"
      ],
      "text/plain": [
       "<IPython.core.display.Markdown object>"
      ]
     },
     "metadata": {},
     "output_type": "display_data"
    },
    {
     "name": "stdout",
     "output_type": "stream",
     "text": [
      "does not exist yet\n"
     ]
    },
    {
     "data": {
      "text/markdown": [
       "---"
      ],
      "text/plain": [
       "<IPython.core.display.Markdown object>"
      ]
     },
     "metadata": {},
     "output_type": "display_data"
    }
   ],
   "source": [
    "file_d = {\"paper\": \"figure6_out.json\", \"aws\": \"jmh-microbenchmark-results_0.json\", \"local\": \"figure6_out.json\"}\n",
    "\n",
    "def output(source):\n",
    "    \n",
    "    df = build_figure6_df(file=get_result_path(source.lower(), file_d))\n",
    "    \n",
    "    display(Markdown(f\"#### {source} Results\"))\n",
    "\n",
    "    if df is None:\n",
    "        print(\"does not exist yet\")\n",
    "    else:\n",
    "        print(\"Figure 6a: Average per Round\")\n",
    "        parties = [100, 1000, 2000, 5000, 10000]\n",
    "        df_6a = df[df[\"parties\"].isin(parties) & (df[\"opt_er\"]==1)]\n",
    "        build_figure_6a(data=df_6a, format_plot=source!=\"Local\")\n",
    "\n",
    "        display(df_6a)\n",
    "\n",
    "        print(\"\\n\\n\\nFigure 6b: Varied Rounds for 1k Parties\")\n",
    "        rounds =  [8, 16, 64, 128, 512]\n",
    "        df_6b = df[df[\"rounds\"].isin(rounds) & (df[\"parties\"]==1000)]\n",
    "        build_figure_6b(data=df_6b, format_plot=source!=\"Local\")\n",
    "\n",
    "        display(df_6b)\n",
    "        \n",
    "        print(\"\\n First Round:\")\n",
    "        df_1st = df[(df[\"rounds\"]==1) & (df[\"parties\"]==1000)]\n",
    "        display(df_1st)\n",
    "        \n",
    "    display(Markdown(\"---\"))\n",
    "\n",
    "for source in [\"Paper\",\"AWS\",\"Local\"]:\n",
    "    output(source)"
   ]
  },
  {
   "cell_type": "markdown",
   "id": "champion-spank",
   "metadata": {},
   "source": [
    "### Privacy Controller - Transformation Phase: Bandwidth (Figure 7a)\n",
    "The bandwidth analysis of the privacy controller during the transformation phase includes coordination information about the transformation (e.g., which participant dropped out) and the transformation token itself. If more participants drop out, this means that the messages that include this information grow."
   ]
  },
  {
   "cell_type": "code",
   "execution_count": 20,
   "id": "aboriginal-committee",
   "metadata": {
    "jupyter": {
     "source_hidden": true
    },
    "tags": []
   },
   "outputs": [],
   "source": [
    "def build_figure7a_df(config):\n",
    "    \n",
    "    results = []\n",
    "    for diff_percentage in config[\"diff_percentages\"]:\n",
    "        \n",
    "        for num_controllers in config[\"controller_options\"]:\n",
    "\n",
    "            bandwidth_per_controller = _get_conroller_mpc_bandwidth_bytes(universe_size=num_controllers, diff_percentage=diff_percentage, encoding_size=3)\n",
    "\n",
    "            d = {\n",
    "                \"num_controllers\": num_controllers,\n",
    "                \"diff_percentage\": diff_percentage,\n",
    "                \"diffs\":  int(num_controllers * diff_percentage),\n",
    "                \"bandwidth_per_controller_KB\": bandwidth_per_controller / 1000,\n",
    "                \"bandwidth_KB\" : num_controllers * bandwidth_per_controller / 1000\n",
    "            }\n",
    "\n",
    "            results.append(d)\n",
    "\n",
    "    df = pd.DataFrame(results)\n",
    "    \n",
    "    return df\n",
    "\n",
    "\n",
    "\n",
    "    \n",
    "def build_figure_7a(data):\n",
    "    \n",
    "    diff_percentages = data[\"diff_percentage\"].unique()\n",
    "    \n",
    "    # we show three lines\n",
    "    \n",
    "    df0 = data[data[\"diff_percentage\"] == diff_percentages[0]]\n",
    "    df1 = data[data[\"diff_percentage\"] == diff_percentages[1]]\n",
    "    df2 = data[data[\"diff_percentage\"] == diff_percentages[2]]\n",
    "    \n",
    "    labels = df0[\"num_controllers\"]   \n",
    "    \n",
    "    colors = [\"0.6\", \"0.3\", \"0.1\"]\n",
    "    linestyles = ['-', '--',':']\n",
    "    \n",
    "    plt_params = {'backend': 'ps',\n",
    "              'axes.labelsize': 20,\n",
    "              'legend.fontsize': 16,\n",
    "              'xtick.labelsize': 18,\n",
    "              'ytick.labelsize': 18,\n",
    "              'font.size': 18,\n",
    "              'figure.figsize': [4.151100041511, 2.736555644111891],\n",
    "              'font.family': 'times new roman'}\n",
    "    \n",
    "    plt.rc('pdf', fonttype=42) \n",
    "    plt.rcParams.update(plt_params)\n",
    "    \n",
    "    f, ax1 = plt.subplots()    \n",
    "    \n",
    "    capsize = 5\n",
    "    \n",
    "    \n",
    "    plt.errorbar(labels, df0[\"bandwidth_per_controller_KB\"],  yerr=None, label=f\"pΔ = {diff_percentages[0]}\", color=colors[0], marker=None, linestyle=linestyles[0], linewidth=2, capsize=capsize)\n",
    "\n",
    "    plt.errorbar(labels, df1[\"bandwidth_per_controller_KB\"],  yerr=None, label=f\"pΔ = {diff_percentages[1]}\", color=colors[1], marker=None, linestyle=linestyles[1], linewidth=2, capsize=capsize)\n",
    "    \n",
    "    plt.errorbar(labels, df2[\"bandwidth_per_controller_KB\"],  yerr=None, label=f\"pΔ = {diff_percentages[2]}\", color=colors[2], marker=None, linestyle=linestyles[2], linewidth=2, capsize=capsize)\n",
    "    \n",
    "    \n",
    "    plt.gca().grid(True, linestyle=':', axis=\"y\", color='0.6', zorder=0, linewidth=1)\n",
    "    \n",
    "    plt.xlabel(\"Number of Data Streams\")\n",
    "    plt.ylabel(\"Traffic [KB]\")\n",
    "  \n",
    "    plt.ylim(ymin=0, ymax=10)\n",
    "\n",
    "\n",
    "    handles, labels = ax1.get_legend_handles_labels()\n",
    "    handles = [h[0] for h in handles]\n",
    "    ax1.legend(handles, labels ,numpoints=1, title=None ,labelspacing=.08)\n",
    "\n",
    "    \n",
    "    loc = plticker.MultipleLocator(base=2)\n",
    "    ax1.yaxis.set_major_locator(loc)        \n",
    "\n",
    "    loc = plticker.MultipleLocator(base=2000)\n",
    "    ax1.xaxis.set_major_locator(loc)\n",
    "    \n",
    "    ax1.xaxis.set_major_formatter(lambda x, pos: f\"{int(x/1000)}k\")\n",
    "      \n",
    "    plt.show()\n",
    "\n",
    "\n",
    "\n",
    "def _get_conroller_mpc_bandwidth_bytes(universe_size, diff_percentage=0.0, encoding_size=3):\n",
    "    timestamp_size = 8\n",
    "    value_size = 8\n",
    "    digest_size = encoding_size * value_size\n",
    "    window_size = 2 * timestamp_size\n",
    "    id_size = 8\n",
    "\n",
    "    diff_size = id_size\n",
    "    trigger_commit_msg_size = window_size\n",
    "    commit_msg_size =  window_size + id_size\n",
    "    \n",
    "    diffs = int(universe_size * diff_percentage)\n",
    "    trigger_transformation_token_msg_size = window_size + diffs * diff_size\n",
    "\n",
    "    transformation_token_msg_size = id_size + window_size + digest_size\n",
    "\n",
    "    bandwidth_per_controller = trigger_commit_msg_size + commit_msg_size + trigger_transformation_token_msg_size + transformation_token_msg_size\n",
    "\n",
    "    \n",
    "    return bandwidth_per_controller"
   ]
  },
  {
   "cell_type": "code",
   "execution_count": 21,
   "id": "incoming-throw",
   "metadata": {
    "tags": []
   },
   "outputs": [
    {
     "data": {
      "image/png": "[encoded data removed]",
      "text/plain": [
       "<Figure size 298.879x197.032 with 1 Axes>"
      ]
     },
     "metadata": {
      "needs_background": "light"
     },
     "output_type": "display_data"
    },
    {
     "name": "stdout",
     "output_type": "stream",
     "text": [
      "\n",
      "\n",
      "Show every 3rd row of data:\n"
     ]
    },
    {
     "data": {
      "text/html": [
       "<div>\n",
       "<style scoped>\n",
       "    .dataframe tbody tr th:only-of-type {\n",
       "        vertical-align: middle;\n",
       "    }\n",
       "\n",
       "    .dataframe tbody tr th {\n",
       "        vertical-align: top;\n",
       "    }\n",
       "\n",
       "    .dataframe thead th {\n",
       "        text-align: right;\n",
       "    }\n",
       "</style>\n",
       "<table border=\"1\" class=\"dataframe\">\n",
       "  <thead>\n",
       "    <tr style=\"text-align: right;\">\n",
       "      <th></th>\n",
       "      <th>num_controllers</th>\n",
       "      <th>diff_percentage</th>\n",
       "      <th>diffs</th>\n",
       "      <th>bandwidth_per_controller_KB</th>\n",
       "      <th>bandwidth_KB</th>\n",
       "    </tr>\n",
       "  </thead>\n",
       "  <tbody>\n",
       "    <tr>\n",
       "      <th>0</th>\n",
       "      <td>10</td>\n",
       "      <td>0.00</td>\n",
       "      <td>0</td>\n",
       "      <td>0.104</td>\n",
       "      <td>1.04</td>\n",
       "    </tr>\n",
       "    <tr>\n",
       "      <th>3</th>\n",
       "      <td>300</td>\n",
       "      <td>0.00</td>\n",
       "      <td>0</td>\n",
       "      <td>0.104</td>\n",
       "      <td>31.20</td>\n",
       "    </tr>\n",
       "    <tr>\n",
       "      <th>6</th>\n",
       "      <td>600</td>\n",
       "      <td>0.00</td>\n",
       "      <td>0</td>\n",
       "      <td>0.104</td>\n",
       "      <td>62.40</td>\n",
       "    </tr>\n",
       "    <tr>\n",
       "      <th>9</th>\n",
       "      <td>2000</td>\n",
       "      <td>0.00</td>\n",
       "      <td>0</td>\n",
       "      <td>0.104</td>\n",
       "      <td>208.00</td>\n",
       "    </tr>\n",
       "    <tr>\n",
       "      <th>12</th>\n",
       "      <td>5000</td>\n",
       "      <td>0.00</td>\n",
       "      <td>0</td>\n",
       "      <td>0.104</td>\n",
       "      <td>520.00</td>\n",
       "    </tr>\n",
       "    <tr>\n",
       "      <th>15</th>\n",
       "      <td>8000</td>\n",
       "      <td>0.00</td>\n",
       "      <td>0</td>\n",
       "      <td>0.104</td>\n",
       "      <td>832.00</td>\n",
       "    </tr>\n",
       "    <tr>\n",
       "      <th>18</th>\n",
       "      <td>10</td>\n",
       "      <td>0.05</td>\n",
       "      <td>0</td>\n",
       "      <td>0.104</td>\n",
       "      <td>1.04</td>\n",
       "    </tr>\n",
       "    <tr>\n",
       "      <th>21</th>\n",
       "      <td>300</td>\n",
       "      <td>0.05</td>\n",
       "      <td>15</td>\n",
       "      <td>0.224</td>\n",
       "      <td>67.20</td>\n",
       "    </tr>\n",
       "    <tr>\n",
       "      <th>24</th>\n",
       "      <td>600</td>\n",
       "      <td>0.05</td>\n",
       "      <td>30</td>\n",
       "      <td>0.344</td>\n",
       "      <td>206.40</td>\n",
       "    </tr>\n",
       "    <tr>\n",
       "      <th>27</th>\n",
       "      <td>2000</td>\n",
       "      <td>0.05</td>\n",
       "      <td>100</td>\n",
       "      <td>0.904</td>\n",
       "      <td>1808.00</td>\n",
       "    </tr>\n",
       "    <tr>\n",
       "      <th>30</th>\n",
       "      <td>5000</td>\n",
       "      <td>0.05</td>\n",
       "      <td>250</td>\n",
       "      <td>2.104</td>\n",
       "      <td>10520.00</td>\n",
       "    </tr>\n",
       "    <tr>\n",
       "      <th>33</th>\n",
       "      <td>8000</td>\n",
       "      <td>0.05</td>\n",
       "      <td>400</td>\n",
       "      <td>3.304</td>\n",
       "      <td>26432.00</td>\n",
       "    </tr>\n",
       "    <tr>\n",
       "      <th>36</th>\n",
       "      <td>10</td>\n",
       "      <td>0.10</td>\n",
       "      <td>1</td>\n",
       "      <td>0.112</td>\n",
       "      <td>1.12</td>\n",
       "    </tr>\n",
       "    <tr>\n",
       "      <th>39</th>\n",
       "      <td>300</td>\n",
       "      <td>0.10</td>\n",
       "      <td>30</td>\n",
       "      <td>0.344</td>\n",
       "      <td>103.20</td>\n",
       "    </tr>\n",
       "    <tr>\n",
       "      <th>42</th>\n",
       "      <td>600</td>\n",
       "      <td>0.10</td>\n",
       "      <td>60</td>\n",
       "      <td>0.584</td>\n",
       "      <td>350.40</td>\n",
       "    </tr>\n",
       "    <tr>\n",
       "      <th>45</th>\n",
       "      <td>2000</td>\n",
       "      <td>0.10</td>\n",
       "      <td>200</td>\n",
       "      <td>1.704</td>\n",
       "      <td>3408.00</td>\n",
       "    </tr>\n",
       "    <tr>\n",
       "      <th>48</th>\n",
       "      <td>5000</td>\n",
       "      <td>0.10</td>\n",
       "      <td>500</td>\n",
       "      <td>4.104</td>\n",
       "      <td>20520.00</td>\n",
       "    </tr>\n",
       "    <tr>\n",
       "      <th>51</th>\n",
       "      <td>8000</td>\n",
       "      <td>0.10</td>\n",
       "      <td>800</td>\n",
       "      <td>6.504</td>\n",
       "      <td>52032.00</td>\n",
       "    </tr>\n",
       "  </tbody>\n",
       "</table>\n",
       "</div>"
      ],
      "text/plain": [
       "    num_controllers  diff_percentage  diffs  bandwidth_per_controller_KB  \\\n",
       "0                10             0.00      0                        0.104   \n",
       "3               300             0.00      0                        0.104   \n",
       "6               600             0.00      0                        0.104   \n",
       "9              2000             0.00      0                        0.104   \n",
       "12             5000             0.00      0                        0.104   \n",
       "15             8000             0.00      0                        0.104   \n",
       "18               10             0.05      0                        0.104   \n",
       "21              300             0.05     15                        0.224   \n",
       "24              600             0.05     30                        0.344   \n",
       "27             2000             0.05    100                        0.904   \n",
       "30             5000             0.05    250                        2.104   \n",
       "33             8000             0.05    400                        3.304   \n",
       "36               10             0.10      1                        0.112   \n",
       "39              300             0.10     30                        0.344   \n",
       "42              600             0.10     60                        0.584   \n",
       "45             2000             0.10    200                        1.704   \n",
       "48             5000             0.10    500                        4.104   \n",
       "51             8000             0.10    800                        6.504   \n",
       "\n",
       "    bandwidth_KB  \n",
       "0           1.04  \n",
       "3          31.20  \n",
       "6          62.40  \n",
       "9         208.00  \n",
       "12        520.00  \n",
       "15        832.00  \n",
       "18          1.04  \n",
       "21         67.20  \n",
       "24        206.40  \n",
       "27       1808.00  \n",
       "30      10520.00  \n",
       "33      26432.00  \n",
       "36          1.12  \n",
       "39        103.20  \n",
       "42        350.40  \n",
       "45       3408.00  \n",
       "48      20520.00  \n",
       "51      52032.00  "
      ]
     },
     "metadata": {},
     "output_type": "display_data"
    }
   ],
   "source": [
    "config = {\n",
    "    \"diff_percentages\": [0, 0.05, 0.1],\n",
    "    \"controller_options\": [10, 100, 200, 300, 400, 500, 600, 700, 1000, 2000, 3000, 4000, 5000, 6000, 7000, 8000, 9000, 10000]\n",
    "}\n",
    "\n",
    "df = build_figure7a_df(config=config)\n",
    "\n",
    "build_figure_7a(data=df)\n",
    "\n",
    "print(\"\\n\\nShow every 3rd row of data:\")\n",
    "display(df[df.index % 3 == 0])\n",
    "\n",
    "# uncomment to show the full data:\n",
    "# display(df)"
   ]
  },
  {
   "cell_type": "markdown",
   "id": "changing-imagination",
   "metadata": {},
   "source": [
    "### Privacy Controller - Transformation Phase: Storage (Figure 7b) \n",
    "During the privacy transformation phase, a privacy controller needs to store the pre-computed secure aggregation graphs and all the shared keys of the other participants.\n",
    "We show analytically how the storage requirements grow as we increase the number of involved parties.\n"
   ]
  },
  {
   "cell_type": "code",
   "execution_count": 22,
   "id": "beneficial-being",
   "metadata": {
    "jupyter": {
     "source_hidden": true
    },
    "tags": []
   },
   "outputs": [],
   "source": [
    "def build_figure7b_df(config):\n",
    "    \n",
    "    params = []\n",
    "    # Note: see later a more descriptive version of how to get the optimal parameters\n",
    "    \n",
    "    for N in range(100, config[\"N_limit\"]+1, config[\"N_step_size\"]):\n",
    "        k = _get_k(N=N, alpha=config[\"alpha\"], delta=config[\"delta\"])\n",
    "        if k:\n",
    "            w = 2**k\n",
    "            n = int(config[\"alpha\"] * N)\n",
    "            W = int(128/k) * w\n",
    "            p = 1 / w\n",
    "            d ={\n",
    "                    \"N\": N, \"n\": n, \"k\": k, \"w\": w, \"W\": W, \"p\": p,\n",
    "                    \"fail_bound\": W * er_probability_bound(n=n, p=p),\n",
    "                    \"e_degree\": (N-1) / w,\n",
    "                    \"alpha\": config[\"alpha\"],\n",
    "                    \"delta\": config[\"delta\"]\n",
    "            }\n",
    "            params.append(d)\n",
    "        else:\n",
    "            d ={\n",
    "                \"N\": N,\n",
    "                \"alpha\": config[\"alpha\"],\n",
    "                \"delta\": config[\"delta\"]\n",
    "            }\n",
    "            params.append(d)\n",
    "\n",
    "    df = pd.DataFrame(params)\n",
    "    \n",
    "    # 128 bit ouput of prf, have k-bit segements => have 128/k segments\n",
    "    df[\"storage\"] = 128 / df[\"k\"]\n",
    "\n",
    "    df[\"storage_sharedkeys_kb\"] =  df[\"N\"] * 32 / 1000\n",
    "\n",
    "    # df[\"storage\"] is the number of segments, for each segment we need to store the id of every participant once (*N), each id is a long (*8)\n",
    "    df[\"storage_kb\"] = df[\"storage_sharedkeys_kb\"] + df[\"storage\"] * df[\"N\"] * 8 / 1000\n",
    "    \n",
    "    \n",
    "    df = df[[\"N\", \"k\", \"storage_kb\", \"storage_sharedkeys_kb\"]]\n",
    "    \n",
    "    return df\n",
    "\n",
    "    \n",
    "def build_figure_7b(data):\n",
    "\n",
    "    plt_params = {'backend': 'ps',\n",
    "              'axes.labelsize': 20,\n",
    "              'legend.fontsize': 16,\n",
    "              'xtick.labelsize': 18,\n",
    "              'ytick.labelsize': 18,\n",
    "              'font.size': 18,\n",
    "              'figure.figsize': [4.151100041511, 2.736555644111891],\n",
    "              'font.family': 'times new roman'}\n",
    "    \n",
    "    plt.rc('pdf', fonttype=42) \n",
    "    plt.rcParams.update(plt_params)\n",
    "    \n",
    "    f, ax1 = plt.subplots()    \n",
    "    \n",
    "    capsize = 5\n",
    "    \n",
    "\n",
    "    plt.errorbar(data[\"N\"], data[\"storage_kb\"],  yerr=None, label=\"Shared Keys + Graphs\", color=\"0.1\", marker=None, linestyle=':', linewidth=2, capsize=capsize)\n",
    "\n",
    "    plt.errorbar(data[\"N\"], data[\"storage_sharedkeys_kb\"],  yerr=None, label=\"Shared Keys\", color=\"0.3\", marker=None, linestyle='-', linewidth=2, capsize=capsize)\n",
    "    \n",
    "    \n",
    "    \n",
    "    plt.gca().grid(True, linestyle=':', axis=\"y\", color='0.6', zorder=0, linewidth=1)\n",
    "    \n",
    "    plt.xlabel(\"Parties\")\n",
    "    plt.ylabel(\"Storage [KB]\")\n",
    "  \n",
    "    plt.ylim(ymin=0, ymax=2999)\n",
    "\n",
    "\n",
    "    handles, labels = ax1.get_legend_handles_labels()\n",
    "    handles = [h[0] for h in handles]\n",
    "    ax1.legend(handles, labels ,numpoints=1, title=None ,labelspacing=.08)\n",
    "\n",
    "    \n",
    "    loc = plticker.MultipleLocator(base=500)\n",
    "    ax1.yaxis.set_major_locator(loc)        \n",
    "\n",
    "    loc = plticker.MultipleLocator(base=2000)\n",
    "    ax1.xaxis.set_major_locator(loc)\n",
    "    \n",
    "    ax1.xaxis.set_major_formatter(lambda x, pos: f\"{int(x/1000)}k\")\n",
    "      \n",
    "    plt.show()\n",
    "    \n",
    "    \n",
    "\n",
    "def er_probability_bound(n, p):\n",
    "    bound = 0.0\n",
    "    for j in range(1, int(n/2) + 1):\n",
    "        uj = ((math.e * n)/j * (1-p) ** (n-j))**j\n",
    "        bound += uj\n",
    "    return bound\n",
    "\n",
    "def _get_k(N, alpha, delta):\n",
    "    n = int(alpha * N)\n",
    "         \n",
    "    for k in range(1, 20):\n",
    "        w = 2**k\n",
    "        W = int(128/k) * w\n",
    "        \n",
    "        p = 1 / w\n",
    "\n",
    "        fail_bound = W * er_probability_bound(n=n, p=p)\n",
    "        \n",
    "        if fail_bound > delta:\n",
    "            if k-1 > 0:\n",
    "                return k-1\n",
    "            else:\n",
    "                return None\n"
   ]
  },
  {
   "cell_type": "code",
   "execution_count": 23,
   "id": "scientific-sentence",
   "metadata": {},
   "outputs": [
    {
     "data": {
      "image/png": "[encoded data removed]",
      "text/plain": [
       "<Figure size 298.879x197.032 with 1 Axes>"
      ]
     },
     "metadata": {
      "needs_background": "light"
     },
     "output_type": "display_data"
    },
    {
     "name": "stdout",
     "output_type": "stream",
     "text": [
      "\n",
      "\n",
      "Show every 50'th row of data:\n"
     ]
    },
    {
     "data": {
      "text/html": [
       "<div>\n",
       "<style scoped>\n",
       "    .dataframe tbody tr th:only-of-type {\n",
       "        vertical-align: middle;\n",
       "    }\n",
       "\n",
       "    .dataframe tbody tr th {\n",
       "        vertical-align: top;\n",
       "    }\n",
       "\n",
       "    .dataframe thead th {\n",
       "        text-align: right;\n",
       "    }\n",
       "</style>\n",
       "<table border=\"1\" class=\"dataframe\">\n",
       "  <thead>\n",
       "    <tr style=\"text-align: right;\">\n",
       "      <th></th>\n",
       "      <th>N</th>\n",
       "      <th>k</th>\n",
       "      <th>storage_kb</th>\n",
       "      <th>storage_sharedkeys_kb</th>\n",
       "    </tr>\n",
       "  </thead>\n",
       "  <tbody>\n",
       "    <tr>\n",
       "      <th>0</th>\n",
       "      <td>100</td>\n",
       "      <td>1</td>\n",
       "      <td>105.600000</td>\n",
       "      <td>3.2</td>\n",
       "    </tr>\n",
       "    <tr>\n",
       "      <th>50</th>\n",
       "      <td>600</td>\n",
       "      <td>3</td>\n",
       "      <td>224.000000</td>\n",
       "      <td>19.2</td>\n",
       "    </tr>\n",
       "    <tr>\n",
       "      <th>100</th>\n",
       "      <td>1100</td>\n",
       "      <td>4</td>\n",
       "      <td>316.800000</td>\n",
       "      <td>35.2</td>\n",
       "    </tr>\n",
       "    <tr>\n",
       "      <th>150</th>\n",
       "      <td>1600</td>\n",
       "      <td>4</td>\n",
       "      <td>460.800000</td>\n",
       "      <td>51.2</td>\n",
       "    </tr>\n",
       "    <tr>\n",
       "      <th>200</th>\n",
       "      <td>2100</td>\n",
       "      <td>5</td>\n",
       "      <td>497.280000</td>\n",
       "      <td>67.2</td>\n",
       "    </tr>\n",
       "    <tr>\n",
       "      <th>250</th>\n",
       "      <td>2600</td>\n",
       "      <td>5</td>\n",
       "      <td>615.680000</td>\n",
       "      <td>83.2</td>\n",
       "    </tr>\n",
       "    <tr>\n",
       "      <th>300</th>\n",
       "      <td>3100</td>\n",
       "      <td>5</td>\n",
       "      <td>734.080000</td>\n",
       "      <td>99.2</td>\n",
       "    </tr>\n",
       "    <tr>\n",
       "      <th>350</th>\n",
       "      <td>3600</td>\n",
       "      <td>5</td>\n",
       "      <td>852.480000</td>\n",
       "      <td>115.2</td>\n",
       "    </tr>\n",
       "    <tr>\n",
       "      <th>400</th>\n",
       "      <td>4100</td>\n",
       "      <td>6</td>\n",
       "      <td>830.933333</td>\n",
       "      <td>131.2</td>\n",
       "    </tr>\n",
       "    <tr>\n",
       "      <th>450</th>\n",
       "      <td>4600</td>\n",
       "      <td>6</td>\n",
       "      <td>932.266667</td>\n",
       "      <td>147.2</td>\n",
       "    </tr>\n",
       "    <tr>\n",
       "      <th>500</th>\n",
       "      <td>5100</td>\n",
       "      <td>6</td>\n",
       "      <td>1033.600000</td>\n",
       "      <td>163.2</td>\n",
       "    </tr>\n",
       "    <tr>\n",
       "      <th>550</th>\n",
       "      <td>5600</td>\n",
       "      <td>6</td>\n",
       "      <td>1134.933333</td>\n",
       "      <td>179.2</td>\n",
       "    </tr>\n",
       "    <tr>\n",
       "      <th>600</th>\n",
       "      <td>6100</td>\n",
       "      <td>6</td>\n",
       "      <td>1236.266667</td>\n",
       "      <td>195.2</td>\n",
       "    </tr>\n",
       "    <tr>\n",
       "      <th>650</th>\n",
       "      <td>6600</td>\n",
       "      <td>6</td>\n",
       "      <td>1337.600000</td>\n",
       "      <td>211.2</td>\n",
       "    </tr>\n",
       "    <tr>\n",
       "      <th>700</th>\n",
       "      <td>7100</td>\n",
       "      <td>6</td>\n",
       "      <td>1438.933333</td>\n",
       "      <td>227.2</td>\n",
       "    </tr>\n",
       "    <tr>\n",
       "      <th>750</th>\n",
       "      <td>7600</td>\n",
       "      <td>6</td>\n",
       "      <td>1540.266667</td>\n",
       "      <td>243.2</td>\n",
       "    </tr>\n",
       "    <tr>\n",
       "      <th>800</th>\n",
       "      <td>8100</td>\n",
       "      <td>6</td>\n",
       "      <td>1641.600000</td>\n",
       "      <td>259.2</td>\n",
       "    </tr>\n",
       "    <tr>\n",
       "      <th>850</th>\n",
       "      <td>8600</td>\n",
       "      <td>7</td>\n",
       "      <td>1533.257143</td>\n",
       "      <td>275.2</td>\n",
       "    </tr>\n",
       "    <tr>\n",
       "      <th>900</th>\n",
       "      <td>9100</td>\n",
       "      <td>7</td>\n",
       "      <td>1622.400000</td>\n",
       "      <td>291.2</td>\n",
       "    </tr>\n",
       "    <tr>\n",
       "      <th>950</th>\n",
       "      <td>9600</td>\n",
       "      <td>7</td>\n",
       "      <td>1711.542857</td>\n",
       "      <td>307.2</td>\n",
       "    </tr>\n",
       "  </tbody>\n",
       "</table>\n",
       "</div>"
      ],
      "text/plain": [
       "        N  k   storage_kb  storage_sharedkeys_kb\n",
       "0     100  1   105.600000                    3.2\n",
       "50    600  3   224.000000                   19.2\n",
       "100  1100  4   316.800000                   35.2\n",
       "150  1600  4   460.800000                   51.2\n",
       "200  2100  5   497.280000                   67.2\n",
       "250  2600  5   615.680000                   83.2\n",
       "300  3100  5   734.080000                   99.2\n",
       "350  3600  5   852.480000                  115.2\n",
       "400  4100  6   830.933333                  131.2\n",
       "450  4600  6   932.266667                  147.2\n",
       "500  5100  6  1033.600000                  163.2\n",
       "550  5600  6  1134.933333                  179.2\n",
       "600  6100  6  1236.266667                  195.2\n",
       "650  6600  6  1337.600000                  211.2\n",
       "700  7100  6  1438.933333                  227.2\n",
       "750  7600  6  1540.266667                  243.2\n",
       "800  8100  6  1641.600000                  259.2\n",
       "850  8600  7  1533.257143                  275.2\n",
       "900  9100  7  1622.400000                  291.2\n",
       "950  9600  7  1711.542857                  307.2"
      ]
     },
     "metadata": {},
     "output_type": "display_data"
    }
   ],
   "source": [
    "config = {\n",
    "    \"alpha\": 0.5,\n",
    "    \"delta\": 1.0E-7,\n",
    "    \"N_limit\": 10000,\n",
    "    \"N_step_size\": 10\n",
    "}\n",
    "\n",
    "df = build_figure7b_df(config=config)\n",
    "\n",
    "build_figure_7b(data=df)\n",
    "\n",
    "print(\"\\n\\nShow every 50'th row of data:\")\n",
    "display(df[df.index % 50 == 0])\n",
    "\n",
    "# uncomment to show the full data:\n",
    "#display(df)"
   ]
  },
  {
   "cell_type": "markdown",
   "id": "surrounded-australian",
   "metadata": {},
   "source": [
    "### Privacy Controller - Transformation Phase: Drop-Outs (Figure 8)\n",
    "\n",
    "Code Marker: [PrivacyControllerBenchmark.java](zeph-benchmarks/zeph-microbenchmarks/src/main/java/ch/ethz/infk/pps/zeph/benchmark/PrivacyControllerBenchmark.java)\n",
    "\n",
    "#### `Optional:` Run the Microbenchmark for Figure 8 locally (~1h 10min)\n"
   ]
  },
  {
   "cell_type": "code",
   "execution_count": 24,
   "id": "comprehensive-moore",
   "metadata": {
    "scrolled": true,
    "tags": []
   },
   "outputs": [
    {
     "data": {
      "text/markdown": [
       "Done! Cleared output for conciseness ([Show Cell Output](logs/figure8.log))"
      ],
      "text/plain": [
       "<IPython.core.display.Markdown object>"
      ]
     },
     "metadata": {},
     "output_type": "display_data"
    },
    {
     "name": "stdout",
     "output_type": "stream",
     "text": [
      "CPU times: user 3.58 ms, sys: 0 ns, total: 3.58 ms\n",
      "Wall time: 2.9 ms\n"
     ]
    }
   ],
   "source": [
    "%%time\n",
    "# addE_addNE_dropE_dropNE: addE-> number of returning parties with which we share a mask in the token (edge), addNE-> number of returning parties with which we don't share a mask (edge) in the token\n",
    "\n",
    "# added: 0_10_0_0,0_50_0_0,0_100_0_0,0_200_0_0,0_300_0_0,0_400_0_0,0_500_0_0\n",
    "# dropped: 0_0_0_10,0_0_0_50,0_0_0_100,0_0_0_200,0_0_0_300,0_0_0_400,0_0_0_500\n",
    "# combined: 0_10_0_10,0_50_0_50,0_100_0_100,0_200_0_200,0_300_0_300,0_400_0_400,0_500_0_500\n",
    "\n",
    "#!java -jar zeph-benchmarks/zeph-microbenchmarks/target/zeph-microbenchmarks-1.0.jar testUniverseDelta -rf json -rff results/review-results/local/figure8_out.json -p dataDir=data -p universeSize=1000 -p addE_addNE_dropE_dropNE=0_10_0_0,0_50_0_0,0_100_0_0,0_200_0_0,0_300_0_0,0_400_0_0,0_500_0_0,0_0_0_10,0_0_0_50,0_0_0_100,0_0_0_200,0_0_0_300,0_0_0_400,0_0_0_500,0_10_0_10,0_50_0_50,0_100_0_100,0_200_0_200,0_300_0_300,0_400_0_400 2>&1 | tee logs/figure8.log\n",
    "\n",
    "clear_output()\n",
    "display(Markdown(\"Done! Cleared output for conciseness ([Show Cell Output](logs/figure8.log))\"))"
   ]
  },
  {
   "cell_type": "markdown",
   "id": "initial-vertical",
   "metadata": {},
   "source": [
    "#### Description \n",
    "\n",
    "Parties can dynamically dropout or return from a previous dropout. Incorporating these changes into the transformation token has a small overhead depending on the number of changes (delta). \n",
    "As a first step, we benchmarked the difference between a return/dropout from a participant with and without a shared mask in the token. We observed that the difference was marginal and thus we only focus the benchmark on reacting to changes from participants that do not share a pairwise mask in the token. The reason for this is that, the number of pairwise shared masks is small and hence the number of parties that could return or dropout (x-axis) would be limited. "
   ]
  },
  {
   "cell_type": "code",
   "execution_count": 25,
   "id": "industrial-union",
   "metadata": {
    "jupyter": {
     "source_hidden": true
    },
    "tags": []
   },
   "outputs": [],
   "source": [
    "def build_figure8_df(file):\n",
    "    \n",
    "    try:\n",
    "        with open(file) as json_file:\n",
    "            data = json.load(json_file)\n",
    "    except (FileNotFoundError, ValueError) as e:\n",
    "        return None\n",
    "\n",
    "    results = []\n",
    "\n",
    "    for x in data:\n",
    "        benchmark_class = x['benchmark'].split(\".\")[-1]\n",
    "\n",
    "        if benchmark_class != \"testUniverseDelta\":\n",
    "            continue\n",
    "\n",
    "        benchmark = x['benchmark'].split(\".\")[-1]\n",
    "\n",
    "        parts = x['params']['addE_addNE_dropE_dropNE'].split(\"_\")\n",
    "        score = x['primaryMetric']['score']\n",
    "        unit = x['primaryMetric']['scoreUnit']\n",
    "\n",
    "        stddev = stat.stdev(x['primaryMetric']['rawData'][0])\n",
    "\n",
    "        d = {\n",
    "            \"n_parties\": x['params']['universeSize'],\n",
    "            \"addE\": parts[0],\n",
    "            \"addNE\": parts[1],\n",
    "            \"dropE\": parts[2],\n",
    "            \"dropNE\": parts[3],\n",
    "            \"latency\": score,\n",
    "            \"stddev\": stddev,\n",
    "            \"unit\": unit,\n",
    "            \"maxDelta\": max(map(lambda x: int(x), parts))\n",
    "        }\n",
    "\n",
    "        results.append(d)\n",
    "\n",
    "\n",
    "    df = pd.DataFrame(results)\n",
    "    df = df.drop_duplicates(['n_parties', 'addE', 'addNE', 'dropE', 'dropNE']).sort_values(['maxDelta'])\n",
    "\n",
    "\n",
    "    df = df[df['maxDelta'].astype(int)<500]\n",
    "\n",
    "    df = df[[\"n_parties\", \"addNE\", \"dropNE\", \"latency\", \"stddev\", \"unit\", \"maxDelta\"]]\n",
    "    df = df.rename(columns={\"addNE\": \"n_parties_added\", \"dropNE\": \"n_parties_dropped\"})\n",
    "    \n",
    "\n",
    "    \n",
    "    def _get_type(row):\n",
    "        n_parties_added = int(row[\"n_parties_added\"])\n",
    "        n_parties_dropped = int(row[\"n_parties_dropped\"])\n",
    "        \n",
    "        \n",
    "        if n_parties_added == 0 and n_parties_dropped  > 0:\n",
    "            return \"dropped\"\n",
    "        elif n_parties_added > 0 and n_parties_dropped==0:\n",
    "            return \"returned\"\n",
    "        elif n_parties_added > 0 and n_parties_dropped>0:\n",
    "            return \"combined\"\n",
    "        else:\n",
    "            return \"none\"\n",
    "    \n",
    "    \n",
    "    df[\"type\"] = df.apply(lambda x: _get_type(x), axis=1)\n",
    "    \n",
    "    df = df[df[\"type\"] != \"none\"]\n",
    "    \n",
    "    df = df.sort_values([\"type\",\"maxDelta\"])    \n",
    "\n",
    "\n",
    "    return df\n",
    "\n",
    "def build_figure_8(data, format_plot):\n",
    "    \n",
    "\n",
    "    colors=[\"0.1\", \"0.3\", \"0.6\"]\n",
    "    linestyles=[\":\", \"--\", \"-\"]\n",
    "\n",
    "    df_dropped = data[data[\"type\"]==\"dropped\"]\n",
    "    df_returned = data[data[\"type\"]==\"returned\"]\n",
    "    df_combined = data[data[\"type\"]==\"combined\"]\n",
    "\n",
    "    plt_params = {'backend': 'ps',\n",
    "              'axes.labelsize': 20,\n",
    "              'legend.fontsize': 16,\n",
    "              'xtick.labelsize': 18,\n",
    "              'ytick.labelsize': 18,\n",
    "              'font.size': 18,\n",
    "              'figure.figsize': [4.151100041511, 2.736555644111891],\n",
    "              'font.family': 'times new roman'}\n",
    "    \n",
    "    plt.rc('pdf', fonttype=42) \n",
    "    plt.rcParams.update(plt_params)\n",
    "\n",
    "    f, ax1 = plt.subplots()    \n",
    "    \n",
    "    capsize = 5\n",
    "    \n",
    "    plt.errorbar(df_dropped[\"maxDelta\"], df_dropped[\"latency\"]/1000,  yerr=df_dropped[\"stddev\"]/1000, label=\"Dropped\", color=colors[0], marker=None, linestyle=linestyles[0], linewidth=2, capsize=capsize)\n",
    "    plt.errorbar(df_returned[\"maxDelta\"], df_returned[\"latency\"]/1000,  yerr=df_returned[\"stddev\"]/1000, label=\"Returned\", color=colors[1], marker=None, linestyle=linestyles[1], linewidth=2, capsize=capsize)\n",
    "    plt.errorbar(df_combined[\"maxDelta\"], df_combined[\"latency\"]/1000,  yerr=df_combined[\"stddev\"]/1000, label=\"Combined\", color=colors[2], marker=None, linestyle=linestyles[2], linewidth=2, capsize=capsize)\n",
    "    \n",
    "    \n",
    "    plt.gca().grid(True, linestyle=':', axis=\"y\", color='0.6', zorder=0, linewidth=1)\n",
    "    \n",
    "    plt.xlabel(\"Parties [Δ]\")\n",
    "    plt.ylabel(\"Computation [ms]\")\n",
    "  \n",
    "    ymax = None\n",
    "    if format_plot:\n",
    "        ymax= 0.75\n",
    "        \n",
    "        loc = plticker.MultipleLocator(base=0.2)\n",
    "        ax1.yaxis.set_major_locator(loc)        \n",
    "\n",
    "        loc = plticker.MultipleLocator(base=100)\n",
    "        ax1.xaxis.set_major_locator(loc)\n",
    "\n",
    "    plt.ylim(ymin=0, ymax=ymax)\n",
    "\n",
    "    handles, labels = ax1.get_legend_handles_labels()\n",
    "    handles = [h[0] for h in handles]\n",
    "    ax1.legend(handles, labels ,numpoints=1, title=None ,labelspacing=.08)\n",
    "    \n",
    "          \n",
    "    plt.show()"
   ]
  },
  {
   "cell_type": "code",
   "execution_count": 26,
   "id": "purple-harvey",
   "metadata": {},
   "outputs": [
    {
     "data": {
      "text/markdown": [
       "#### Paper Results"
      ],
      "text/plain": [
       "<IPython.core.display.Markdown object>"
      ]
     },
     "metadata": {},
     "output_type": "display_data"
    },
    {
     "data": {
      "image/png": "[encoded data removed]",
      "text/plain": [
       "<Figure size 298.879x197.032 with 1 Axes>"
      ]
     },
     "metadata": {
      "needs_background": "light"
     },
     "output_type": "display_data"
    },
    {
     "data": {
      "text/html": [
       "<div>\n",
       "<style scoped>\n",
       "    .dataframe tbody tr th:only-of-type {\n",
       "        vertical-align: middle;\n",
       "    }\n",
       "\n",
       "    .dataframe tbody tr th {\n",
       "        vertical-align: top;\n",
       "    }\n",
       "\n",
       "    .dataframe thead th {\n",
       "        text-align: right;\n",
       "    }\n",
       "</style>\n",
       "<table border=\"1\" class=\"dataframe\">\n",
       "  <thead>\n",
       "    <tr style=\"text-align: right;\">\n",
       "      <th></th>\n",
       "      <th>n_parties</th>\n",
       "      <th>n_parties_added</th>\n",
       "      <th>n_parties_dropped</th>\n",
       "      <th>latency</th>\n",
       "      <th>stddev</th>\n",
       "      <th>unit</th>\n",
       "      <th>maxDelta</th>\n",
       "      <th>type</th>\n",
       "    </tr>\n",
       "  </thead>\n",
       "  <tbody>\n",
       "    <tr>\n",
       "      <th>19</th>\n",
       "      <td>1000</td>\n",
       "      <td>10</td>\n",
       "      <td>10</td>\n",
       "      <td>34.050341</td>\n",
       "      <td>0.580871</td>\n",
       "      <td>us/op</td>\n",
       "      <td>10</td>\n",
       "      <td>combined</td>\n",
       "    </tr>\n",
       "    <tr>\n",
       "      <th>20</th>\n",
       "      <td>1000</td>\n",
       "      <td>50</td>\n",
       "      <td>50</td>\n",
       "      <td>86.797568</td>\n",
       "      <td>0.560283</td>\n",
       "      <td>us/op</td>\n",
       "      <td>50</td>\n",
       "      <td>combined</td>\n",
       "    </tr>\n",
       "    <tr>\n",
       "      <th>21</th>\n",
       "      <td>1000</td>\n",
       "      <td>100</td>\n",
       "      <td>100</td>\n",
       "      <td>149.250568</td>\n",
       "      <td>1.428473</td>\n",
       "      <td>us/op</td>\n",
       "      <td>100</td>\n",
       "      <td>combined</td>\n",
       "    </tr>\n",
       "    <tr>\n",
       "      <th>22</th>\n",
       "      <td>1000</td>\n",
       "      <td>200</td>\n",
       "      <td>200</td>\n",
       "      <td>269.877543</td>\n",
       "      <td>2.062880</td>\n",
       "      <td>us/op</td>\n",
       "      <td>200</td>\n",
       "      <td>combined</td>\n",
       "    </tr>\n",
       "    <tr>\n",
       "      <th>27</th>\n",
       "      <td>1000</td>\n",
       "      <td>300</td>\n",
       "      <td>300</td>\n",
       "      <td>374.864016</td>\n",
       "      <td>2.519177</td>\n",
       "      <td>us/op</td>\n",
       "      <td>300</td>\n",
       "      <td>combined</td>\n",
       "    </tr>\n",
       "    <tr>\n",
       "      <th>28</th>\n",
       "      <td>1000</td>\n",
       "      <td>400</td>\n",
       "      <td>400</td>\n",
       "      <td>500.109543</td>\n",
       "      <td>2.725325</td>\n",
       "      <td>us/op</td>\n",
       "      <td>400</td>\n",
       "      <td>combined</td>\n",
       "    </tr>\n",
       "    <tr>\n",
       "      <th>11</th>\n",
       "      <td>1000</td>\n",
       "      <td>0</td>\n",
       "      <td>10</td>\n",
       "      <td>21.421411</td>\n",
       "      <td>0.316984</td>\n",
       "      <td>us/op</td>\n",
       "      <td>10</td>\n",
       "      <td>dropped</td>\n",
       "    </tr>\n",
       "    <tr>\n",
       "      <th>13</th>\n",
       "      <td>1000</td>\n",
       "      <td>0</td>\n",
       "      <td>50</td>\n",
       "      <td>27.498522</td>\n",
       "      <td>0.523997</td>\n",
       "      <td>us/op</td>\n",
       "      <td>50</td>\n",
       "      <td>dropped</td>\n",
       "    </tr>\n",
       "    <tr>\n",
       "      <th>16</th>\n",
       "      <td>1000</td>\n",
       "      <td>0</td>\n",
       "      <td>100</td>\n",
       "      <td>32.270630</td>\n",
       "      <td>0.514671</td>\n",
       "      <td>us/op</td>\n",
       "      <td>100</td>\n",
       "      <td>dropped</td>\n",
       "    </tr>\n",
       "    <tr>\n",
       "      <th>17</th>\n",
       "      <td>1000</td>\n",
       "      <td>0</td>\n",
       "      <td>200</td>\n",
       "      <td>45.046231</td>\n",
       "      <td>0.608595</td>\n",
       "      <td>us/op</td>\n",
       "      <td>200</td>\n",
       "      <td>dropped</td>\n",
       "    </tr>\n",
       "    <tr>\n",
       "      <th>25</th>\n",
       "      <td>1000</td>\n",
       "      <td>0</td>\n",
       "      <td>300</td>\n",
       "      <td>53.176812</td>\n",
       "      <td>1.098796</td>\n",
       "      <td>us/op</td>\n",
       "      <td>300</td>\n",
       "      <td>dropped</td>\n",
       "    </tr>\n",
       "    <tr>\n",
       "      <th>26</th>\n",
       "      <td>1000</td>\n",
       "      <td>0</td>\n",
       "      <td>400</td>\n",
       "      <td>72.238111</td>\n",
       "      <td>0.862732</td>\n",
       "      <td>us/op</td>\n",
       "      <td>400</td>\n",
       "      <td>dropped</td>\n",
       "    </tr>\n",
       "    <tr>\n",
       "      <th>2</th>\n",
       "      <td>1000</td>\n",
       "      <td>10</td>\n",
       "      <td>0</td>\n",
       "      <td>32.264201</td>\n",
       "      <td>0.561894</td>\n",
       "      <td>us/op</td>\n",
       "      <td>10</td>\n",
       "      <td>returned</td>\n",
       "    </tr>\n",
       "    <tr>\n",
       "      <th>4</th>\n",
       "      <td>1000</td>\n",
       "      <td>50</td>\n",
       "      <td>0</td>\n",
       "      <td>79.994675</td>\n",
       "      <td>0.867837</td>\n",
       "      <td>us/op</td>\n",
       "      <td>50</td>\n",
       "      <td>returned</td>\n",
       "    </tr>\n",
       "    <tr>\n",
       "      <th>7</th>\n",
       "      <td>1000</td>\n",
       "      <td>100</td>\n",
       "      <td>0</td>\n",
       "      <td>137.222261</td>\n",
       "      <td>0.949562</td>\n",
       "      <td>us/op</td>\n",
       "      <td>100</td>\n",
       "      <td>returned</td>\n",
       "    </tr>\n",
       "    <tr>\n",
       "      <th>8</th>\n",
       "      <td>1000</td>\n",
       "      <td>200</td>\n",
       "      <td>0</td>\n",
       "      <td>238.711441</td>\n",
       "      <td>0.882989</td>\n",
       "      <td>us/op</td>\n",
       "      <td>200</td>\n",
       "      <td>returned</td>\n",
       "    </tr>\n",
       "    <tr>\n",
       "      <th>23</th>\n",
       "      <td>1000</td>\n",
       "      <td>300</td>\n",
       "      <td>0</td>\n",
       "      <td>339.741157</td>\n",
       "      <td>1.660750</td>\n",
       "      <td>us/op</td>\n",
       "      <td>300</td>\n",
       "      <td>returned</td>\n",
       "    </tr>\n",
       "    <tr>\n",
       "      <th>24</th>\n",
       "      <td>1000</td>\n",
       "      <td>400</td>\n",
       "      <td>0</td>\n",
       "      <td>447.180082</td>\n",
       "      <td>2.303378</td>\n",
       "      <td>us/op</td>\n",
       "      <td>400</td>\n",
       "      <td>returned</td>\n",
       "    </tr>\n",
       "  </tbody>\n",
       "</table>\n",
       "</div>"
      ],
      "text/plain": [
       "   n_parties n_parties_added n_parties_dropped     latency    stddev   unit  \\\n",
       "19      1000              10                10   34.050341  0.580871  us/op   \n",
       "20      1000              50                50   86.797568  0.560283  us/op   \n",
       "21      1000             100               100  149.250568  1.428473  us/op   \n",
       "22      1000             200               200  269.877543  2.062880  us/op   \n",
       "27      1000             300               300  374.864016  2.519177  us/op   \n",
       "28      1000             400               400  500.109543  2.725325  us/op   \n",
       "11      1000               0                10   21.421411  0.316984  us/op   \n",
       "13      1000               0                50   27.498522  0.523997  us/op   \n",
       "16      1000               0               100   32.270630  0.514671  us/op   \n",
       "17      1000               0               200   45.046231  0.608595  us/op   \n",
       "25      1000               0               300   53.176812  1.098796  us/op   \n",
       "26      1000               0               400   72.238111  0.862732  us/op   \n",
       "2       1000              10                 0   32.264201  0.561894  us/op   \n",
       "4       1000              50                 0   79.994675  0.867837  us/op   \n",
       "7       1000             100                 0  137.222261  0.949562  us/op   \n",
       "8       1000             200                 0  238.711441  0.882989  us/op   \n",
       "23      1000             300                 0  339.741157  1.660750  us/op   \n",
       "24      1000             400                 0  447.180082  2.303378  us/op   \n",
       "\n",
       "    maxDelta      type  \n",
       "19        10  combined  \n",
       "20        50  combined  \n",
       "21       100  combined  \n",
       "22       200  combined  \n",
       "27       300  combined  \n",
       "28       400  combined  \n",
       "11        10   dropped  \n",
       "13        50   dropped  \n",
       "16       100   dropped  \n",
       "17       200   dropped  \n",
       "25       300   dropped  \n",
       "26       400   dropped  \n",
       "2         10  returned  \n",
       "4         50  returned  \n",
       "7        100  returned  \n",
       "8        200  returned  \n",
       "23       300  returned  \n",
       "24       400  returned  "
      ]
     },
     "metadata": {},
     "output_type": "display_data"
    },
    {
     "data": {
      "text/markdown": [
       "---"
      ],
      "text/plain": [
       "<IPython.core.display.Markdown object>"
      ]
     },
     "metadata": {},
     "output_type": "display_data"
    },
    {
     "data": {
      "text/markdown": [
       "#### AWS Results"
      ],
      "text/plain": [
       "<IPython.core.display.Markdown object>"
      ]
     },
     "metadata": {},
     "output_type": "display_data"
    },
    {
     "name": "stdout",
     "output_type": "stream",
     "text": [
      "does not exist yet\n"
     ]
    },
    {
     "data": {
      "text/markdown": [
       "---"
      ],
      "text/plain": [
       "<IPython.core.display.Markdown object>"
      ]
     },
     "metadata": {},
     "output_type": "display_data"
    },
    {
     "data": {
      "text/markdown": [
       "#### Local Results"
      ],
      "text/plain": [
       "<IPython.core.display.Markdown object>"
      ]
     },
     "metadata": {},
     "output_type": "display_data"
    },
    {
     "name": "stdout",
     "output_type": "stream",
     "text": [
      "does not exist yet\n"
     ]
    },
    {
     "data": {
      "text/markdown": [
       "---"
      ],
      "text/plain": [
       "<IPython.core.display.Markdown object>"
      ]
     },
     "metadata": {},
     "output_type": "display_data"
    }
   ],
   "source": [
    "file_d = {\"paper\": \"figure8_out.json\", \"aws\": \"jmh-microbenchmark-results_0.json\", \"local\": \"figure8_out.json\"}\n",
    "\n",
    "def output(source):\n",
    "    \n",
    "    df = build_figure8_df(file=get_result_path(source.lower(), file_d))\n",
    "    \n",
    "    display(Markdown(f\"#### {source} Results\"))\n",
    "    \n",
    "    if df is None:\n",
    "        print(\"does not exist yet\")\n",
    "    else:\n",
    "        build_figure_8(data=df, format_plot=source!=\"Local\")\n",
    "        display(df)\n",
    "    \n",
    "    display(Markdown(\"---\"))\n",
    "\n",
    "for source in [\"Paper\",\"AWS\",\"Local\"]:\n",
    "    output(source)"
   ]
  },
  {
   "cell_type": "markdown",
   "id": "charming-frank",
   "metadata": {},
   "source": [
    "### Privacy Controller - Secure Aggregation Optimization\n",
    "\n",
    "The Zeph Secure Aggregation optimization constructs a series of random graphs. The number of graphs (rounds per epochs) depends on the number of parties (`N`), the assumption on the maximum fraction of colluding parties (`alpha`), and a failure probability bound (`delta`). (Details can be found in the supplementary material of the paper)\n",
    "\n",
    "We show how many graphs we can construct with a given configuration and the resulting number of prf evaluations and  additions in comparison to Dream and Strawman."
   ]
  },
  {
   "cell_type": "code",
   "execution_count": 27,
   "id": "imported-macro",
   "metadata": {
    "jupyter": {
     "source_hidden": true
    },
    "tags": []
   },
   "outputs": [],
   "source": [
    "def build_secure_aggregation_comparison_df(config):\n",
    "    \n",
    "    optimal_k = _get_opt_k(N=config[\"N\"], alpha=config[\"alpha\"], delta=config[\"delta\"])\n",
    "    \n",
    "    if optimal_k is None:\n",
    "        print(f\"The config={config} cannot be satisfied.\")\n",
    "        return None\n",
    "    \n",
    "    num_graphs_per_segment = 2**optimal_k\n",
    "    min_num_honest_clients = int(config[\"alpha\"] * config[\"N\"])\n",
    "    \n",
    "    num_graphs = int(128/optimal_k) * num_graphs_per_segment # number of rounds in epoch\n",
    "    \n",
    "    d = {\n",
    "        \"N\": config[\"N\"],\n",
    "        \"alpha\": config[\"alpha\"],\n",
    "        \"delta\": config[\"delta\"],\n",
    "        \"b\": optimal_k,\n",
    "        \"n_rounds_per_epoch\": num_graphs,\n",
    "        \"small_graph_expected_degree\": round((config[\"N\"]-1) / num_graphs_per_segment),\n",
    "        \"clique_graph_degree\": config[\"N\"] -1\n",
    "    }\n",
    "    \n",
    "    num_fields_per_event = 1\n",
    "    \n",
    "    d[\"zeph_num_prf\"] =  num_fields_per_event * d[\"n_rounds_per_epoch\"] * d[\"small_graph_expected_degree\"] +  config[\"N\"] -1\n",
    "    d[\"zeph_num_add\"] =  num_fields_per_event * d[\"n_rounds_per_epoch\"] * d[\"small_graph_expected_degree\"]\n",
    "    \n",
    "    # dream creates in each round a new small graph. Deriving and adding the mask has to be done in each round on the small graph\n",
    "    d[\"dream_num_add\"] =  num_fields_per_event * d[\"n_rounds_per_epoch\"] * d[\"small_graph_expected_degree\"] \n",
    "    d[\"dream_num_prf\"] = d[\"n_rounds_per_epoch\"] * (num_fields_per_event * d[\"small_graph_expected_degree\"] +  config[\"N\"] - 1)\n",
    "    \n",
    "    d[\"strawman_num_prf\"] = num_fields_per_event * d[\"n_rounds_per_epoch\"] * d[\"clique_graph_degree\"] \n",
    "    d[\"strawman_num_add\"] = num_fields_per_event * d[\"n_rounds_per_epoch\"] * d[\"clique_graph_degree\"] \n",
    "    \n",
    "    df = pd.DataFrame([d])\n",
    "    \n",
    "    return df.set_index([\"N\", \"alpha\", \"delta\"])\n",
    "    \n",
    "    \n",
    "def _er_probability_bound(n, p):\n",
    "    # bound on probability that erdos renyi graph G(n,p) is disconnected\n",
    "    bound = 0.0\n",
    "    for j in range(1, int(n/2) + 1):\n",
    "        uj = ((math.e * n)/j * (1-p) ** (n-j))**j\n",
    "        bound += uj\n",
    "    return bound\n",
    "\n",
    "def _get_opt_k(N, alpha, delta):\n",
    "    min_num_honest_clients = int(alpha * N)\n",
    "         \n",
    "    # try to find largest k such that failure probability threshold delta is satisfied\n",
    "    for k in range(1, 20):\n",
    "        \n",
    "        num_graphs_per_segment = 2**k \n",
    "        num_graphs = int(128/k) * num_graphs_per_segment\n",
    "        \n",
    "        # each graph (of honest clients) is erdos renyi graph with:\n",
    "        p = 1 / num_graphs_per_segment\n",
    "\n",
    "        # union bound over the number of graphs\n",
    "        fail_bound = num_graphs * er_probability_bound(n=min_num_honest_clients, p=p)\n",
    "        \n",
    "        # if fail bound is greater than delta, then the previous k is the max k that satisfies the bound\n",
    "        if fail_bound > delta:\n",
    "            if k-1 > 0:\n",
    "                return k-1\n",
    "            else:\n",
    "                return None\n",
    "        "
   ]
  },
  {
   "cell_type": "code",
   "execution_count": 28,
   "id": "structured-fireplace",
   "metadata": {},
   "outputs": [
    {
     "data": {
      "text/html": [
       "<div>\n",
       "<style scoped>\n",
       "    .dataframe tbody tr th:only-of-type {\n",
       "        vertical-align: middle;\n",
       "    }\n",
       "\n",
       "    .dataframe tbody tr th {\n",
       "        vertical-align: top;\n",
       "    }\n",
       "\n",
       "    .dataframe thead th {\n",
       "        text-align: right;\n",
       "    }\n",
       "</style>\n",
       "<table border=\"1\" class=\"dataframe\">\n",
       "  <thead>\n",
       "    <tr style=\"text-align: right;\">\n",
       "      <th></th>\n",
       "      <th></th>\n",
       "      <th></th>\n",
       "      <th>b</th>\n",
       "      <th>n_rounds_per_epoch</th>\n",
       "      <th>small_graph_expected_degree</th>\n",
       "      <th>clique_graph_degree</th>\n",
       "      <th>zeph_num_prf</th>\n",
       "      <th>zeph_num_add</th>\n",
       "      <th>dream_num_add</th>\n",
       "      <th>dream_num_prf</th>\n",
       "      <th>strawman_num_prf</th>\n",
       "      <th>strawman_num_add</th>\n",
       "    </tr>\n",
       "    <tr>\n",
       "      <th>N</th>\n",
       "      <th>alpha</th>\n",
       "      <th>delta</th>\n",
       "      <th></th>\n",
       "      <th></th>\n",
       "      <th></th>\n",
       "      <th></th>\n",
       "      <th></th>\n",
       "      <th></th>\n",
       "      <th></th>\n",
       "      <th></th>\n",
       "      <th></th>\n",
       "      <th></th>\n",
       "    </tr>\n",
       "  </thead>\n",
       "  <tbody>\n",
       "    <tr>\n",
       "      <th>10000</th>\n",
       "      <th>0.5</th>\n",
       "      <th>1.000000e-09</th>\n",
       "      <td>7</td>\n",
       "      <td>2304</td>\n",
       "      <td>78</td>\n",
       "      <td>9999</td>\n",
       "      <td>189711</td>\n",
       "      <td>179712</td>\n",
       "      <td>179712</td>\n",
       "      <td>23217408</td>\n",
       "      <td>23037696</td>\n",
       "      <td>23037696</td>\n",
       "    </tr>\n",
       "  </tbody>\n",
       "</table>\n",
       "</div>"
      ],
      "text/plain": [
       "                          b  n_rounds_per_epoch  small_graph_expected_degree  \\\n",
       "N     alpha delta                                                              \n",
       "10000 0.5   1.000000e-09  7                2304                           78   \n",
       "\n",
       "                          clique_graph_degree  zeph_num_prf  zeph_num_add  \\\n",
       "N     alpha delta                                                           \n",
       "10000 0.5   1.000000e-09                 9999        189711        179712   \n",
       "\n",
       "                          dream_num_add  dream_num_prf  strawman_num_prf  \\\n",
       "N     alpha delta                                                          \n",
       "10000 0.5   1.000000e-09         179712       23217408          23037696   \n",
       "\n",
       "                          strawman_num_add  \n",
       "N     alpha delta                           \n",
       "10000 0.5   1.000000e-09          23037696  "
      ]
     },
     "metadata": {},
     "output_type": "display_data"
    }
   ],
   "source": [
    "config = {\n",
    "    \"N\": 10000, # number of parties (privacy controllers)\n",
    "    \"alpha\": 0.5, # max fraction of parties colluding with adversary\n",
    "    \"delta\": 1.0E-9# failure probability threshold\n",
    "}\n",
    "\n",
    "df = build_secure_aggregation_comparison_df(config=config)\n",
    "\n",
    "display(df)"
   ]
  },
  {
   "cell_type": "markdown",
   "id": "extraordinary-thomson",
   "metadata": {},
   "source": [
    "## End-to-End Application Scenarios (Figure 9)\n",
    "Since in the end-to-end setting, Zeph relies on and is comprised of multiple components (distributed data producers, distributed privacy controllers, Kafka cluster, Kafka Streams data transformer), we run Zeph in this setting only on AWS.\n",
    "The transformations in the end-to-end experiments aggregate over all attributes and encodings to show the worst-case performance for the specific application.\n",
    "\n",
    "**Note that you cannot run the end-to-end benchmark while the microbenchmarks are running on AWS**\n",
    "\n",
    "#### Running **All** End-to-End Benchmarks on AWS (2h 30min~ min)\n",
    "The complete end-to-end benchmark for figure 9 can be run with the command below.\n"
   ]
  },
  {
   "cell_type": "code",
   "execution_count": 29,
   "id": "automotive-portland",
   "metadata": {
    "jupyter": {
     "source_hidden": true
    },
    "tags": []
   },
   "outputs": [
    {
     "data": {
      "text/html": [
       " <a href=\"\", data-commandlinker-command=\"terminal:create-new\" >Open new Terminal</a> (alternative to execute shell command in a blocking cell)"
      ],
      "text/plain": [
       "<IPython.core.display.HTML object>"
      ]
     },
     "execution_count": 29,
     "metadata": {},
     "output_type": "execute_result"
    }
   ],
   "source": [
    "HTML(' <a href=\"\", data-commandlinker-command=\"terminal:create-new\" >Open new Terminal</a> (alternative to execute shell command in a blocking cell)')"
   ]
  },
  {
   "cell_type": "code",
   "execution_count": 30,
   "id": "sustainable-dining",
   "metadata": {
    "scrolled": true,
    "tags": []
   },
   "outputs": [
    {
     "data": {
      "text/markdown": [
       "Done! Cleared output for conciseness ([Show Cell Output](logs/e2e_full.log))"
      ],
      "text/plain": [
       "<IPython.core.display.Markdown object>"
      ]
     },
     "metadata": {},
     "output_type": "display_data"
    },
    {
     "name": "stdout",
     "output_type": "stream",
     "text": [
      "CPU times: user 0 ns, sys: 3.47 ms, total: 3.47 ms\n",
      "Wall time: 2.71 ms\n"
     ]
    }
   ],
   "source": [
    "%%time\n",
    "# Execute the full benchmark with all three applications and 300 and 1200 parties:\n",
    "\n",
    "#!ansible-playbook ansible/e2epaper.yml -i ansible/inventory --private-key ~/.ssh/id_rsa_zeph --ssh-common-args='-o StrictHostKeyChecking=no' --forks=24 2>&1 | tee logs/e2e_full.log\n",
    "\n",
    "clear_output()\n",
    "display(Markdown(\"Done! Cleared output for conciseness ([Show Cell Output](logs/e2e_full.log))\"))"
   ]
  },
  {
   "cell_type": "markdown",
   "id": "realistic-theology",
   "metadata": {},
   "source": [
    "#### Running **a single** End-to-End Benchmark on AWS (~ 1h 10min)"
   ]
  },
  {
   "cell_type": "code",
   "execution_count": 31,
   "id": "grand-egyptian",
   "metadata": {
    "scrolled": true,
    "tags": []
   },
   "outputs": [
    {
     "data": {
      "text/markdown": [
       "Done! Cleared output for conciseness ([Show Cell Output](logs/e2e_single.log))"
      ],
      "text/plain": [
       "<IPython.core.display.Markdown object>"
      ]
     },
     "metadata": {},
     "output_type": "display_data"
    },
    {
     "name": "stdout",
     "output_type": "stream",
     "text": [
      "CPU times: user 3.71 ms, sys: 0 ns, total: 3.71 ms\n",
      "Wall time: 2.91 ms\n"
     ]
    }
   ],
   "source": [
    "%%time\n",
    "# Execute the benchmark (plaintext vs zeph) for a fix number of clients and for only one application.\n",
    "\n",
    "# application one of [polar, web, car]\n",
    "# num_parties must be a multiple of 300 (due to the three client regions and 100er partitioning)\n",
    "# forks: the provided number of forks only supports up to 1200 clients.\n",
    "\n",
    "# Advanced: if you want to run two or more experiments with this command, you could comment out the \"Cleanup AWS\" in ansible/e2esingle.yml and in the end use the command at the top of the JupyterLab to cleanup all resources. \n",
    "# (has the advantage that in between two runs, we don't terminate all resources and have to start them again for the next run) \n",
    "\n",
    "\n",
    "#!ansible-playbook ansible/e2esingle.yml -i ansible/inventory -e \"application=car num_parties=300\" --forks 24 --private-key ~/.ssh/id_rsa_zeph --ssh-common-args='-o StrictHostKeyChecking=no' 2>&1 | tee logs/e2e_single.log\n",
    "clear_output()\n",
    "display(Markdown(\"Done! Cleared output for conciseness ([Show Cell Output](logs/e2e_single.log))\"))"
   ]
  },
  {
   "cell_type": "code",
   "execution_count": 32,
   "id": "satellite-terminology",
   "metadata": {
    "jupyter": {
     "source_hidden": true
    },
    "tags": []
   },
   "outputs": [],
   "source": [
    "def build_figure9_df(dir):\n",
    "\n",
    "    folder = dir\n",
    "    experiments = [\"e2e_plaintext_polar\", \"e2e_plaintext_web\", \"e2e_plaintext_car\", \"e2e_zeph_polar\", \"e2e_zeph_web\", \"e2e_zeph_car\"] \n",
    "\n",
    "    files = []\n",
    "    for exp in experiments:\n",
    "        f = glob.glob(folder + f\"/{exp}_*.json\")\n",
    "        f = [(x, exp) for x in f]\n",
    "        files += f\n",
    "\n",
    "    zeph = []\n",
    "    plaintext = []\n",
    "\n",
    "    grace = 5000 # the earliest possible moment where the data transformer could output the result is when the 5s grace period is over (after window closes)\n",
    "\n",
    "    for file, exp in files:\n",
    "        with open(file) as json_file:\n",
    "            data = json.load(json_file)\n",
    "\n",
    "        latency = 0\n",
    "        count = 0\n",
    "\n",
    "        latencies = []\n",
    "\n",
    "        for res in data[\"data\"][2:-2]: # exclude a warmup period and a cool down period\n",
    "            latency += res[\"latency\"] \n",
    "            count += 1\n",
    "            latencies.append(res[\"latency\"]- grace)\n",
    "\n",
    "        if count < 8:\n",
    "            print(f\"not enough data points: {file}\")\n",
    "            continue\n",
    "\n",
    "\n",
    "        avg_latency = latency / count - grace\n",
    "\n",
    "        parties = data[\"config\"][\"universeSize\"]\n",
    "        expo_delay_mean = data[\"config\"][\"expoDelayMean\"]\n",
    "\n",
    "        d = {\n",
    "                \"parties\": int(parties),\n",
    "                \"latency\": int(avg_latency),\n",
    "                \"expo_delay_mean\": expo_delay_mean,\n",
    "                \"latencies\": np.array(latencies),\n",
    "                \"median_latency\": stat.median(latencies),\n",
    "                \"exp_id\": exp,\n",
    "                \"application\": exp.split(\"_\")[-1]\n",
    "            }\n",
    "        \n",
    "\n",
    "        benchmarkType = data['config']['benchmarkType']\n",
    "\n",
    "        if benchmarkType == 'zeph'or benchmarkType == 'policycrypt':\n",
    "            zeph.append(d)\n",
    "        elif benchmarkType == 'plaintext':\n",
    "            plaintext.append(d)\n",
    "        else:\n",
    "            print(f\"unknown benchmark type: {file}\")\n",
    "\n",
    "    if len(zeph) == 0:\n",
    "        return None\n",
    "    \n",
    "    df_zeph = pd.DataFrame(zeph).rename(columns={\"median_latency\": \"median_latency_zeph_ms\" ,\"latency\": \"mean_latency_zeph_ms\", \"latencies\": \"latencies_zeph_ms\"})\n",
    "    df_zeph = df_zeph.sort_values(by=['exp_id']) \n",
    "    df_zeph =   df_zeph.drop_duplicates(subset=['parties', 'application'], keep=\"last\") # for duplicates, keep element with highest exp_id (i.e. later result file)\n",
    "    \n",
    "    df_plaintext = pd.DataFrame(plaintext).rename(columns={\"median_latency\": \"median_latency_plaintext_ms\", \"latency\": \"mean_latency_plaintext_ms\", \"latencies\": \"latencies_plaintext_ms\"}) #.drop_duplicates()\n",
    "    df_plaintext = df_plaintext.sort_values(by=['exp_id']) \n",
    "    df_plaintext =   df_plaintext.drop_duplicates(subset=['parties', 'application'], keep=\"last\")\n",
    "    \n",
    "    df = df_zeph.merge(df_plaintext, how='outer', on=['parties', 'expo_delay_mean', 'application']).sort_values(by=['application', 'parties'])  \n",
    "    df = df.drop(columns=['exp_id_x', 'exp_id_y'])\n",
    "    df[\"median_difference_ms\"] = df[\"median_latency_zeph_ms\"] - df[\"median_latency_plaintext_ms\"]\n",
    "    \n",
    "    \n",
    "    df[\"overhead_factor_median\"] = df[\"median_latency_zeph_ms\"] / df[\"median_latency_plaintext_ms\"]\n",
    "    try:\n",
    "        df[\"overhead_factor_median\"] = df[\"overhead_factor_median\"].apply(lambda x: f\"{int(round(x))}x\")\n",
    "    except ValueError:\n",
    "        pass\n",
    "    \n",
    "    return df\n",
    "\n",
    "def build_figure_9(data, plot_format):\n",
    "    \n",
    "    fig_width_pt = 300.0  # Get this from LaTeX using \\showthe\n",
    "    inches_per_pt = 1.0 / 72.27 * 2  # Convert pt to inches\n",
    "    golden_mean = ((np.math.sqrt(5) - 1.0) / 2.0) * .8  # Aesthetic ratio\n",
    "    fig_width = fig_width_pt * inches_per_pt  # width in inches\n",
    "    fig_height = (fig_width * golden_mean)  # height in inches\n",
    "    fig_size =  [fig_width, fig_height]\n",
    "\n",
    "    colors=[\"0.1\", \"0.45\", \"0.7\"]\n",
    "    linestyles=[\":\", \"--\", \"-\"]\n",
    "    \n",
    "    figsize=[fig_size[0], 2/3 * fig_size[1]]\n",
    "\n",
    "    plt_params = {'backend': 'ps',\n",
    "                  'axes.labelsize': 20,\n",
    "                  'legend.fontsize': 16,\n",
    "                  'xtick.labelsize': 18,\n",
    "                  'ytick.labelsize': 18,\n",
    "                  'font.size': 18,\n",
    "                  'figure.figsize': fig_size,\n",
    "                  'font.family': 'times new roman'}\n",
    "    \n",
    "\n",
    "    plt_params_bp = plt_params\n",
    "    plt_params_bp['figure.figsize'] = figsize\n",
    "    \n",
    "    plt.rcParams.update(plt_params_bp)\n",
    "    plt.rc('pdf', fonttype=42)\n",
    "\n",
    "    def set_box_color(bp, color):\n",
    "        plt.setp(bp['boxes'], color=color)\n",
    "        plt.setp(bp['whiskers'], color=color)\n",
    "        plt.setp(bp['caps'], color=color)\n",
    "        plt.setp(bp['medians'], color=color)\n",
    "        plt.setp(bp['fliers'], color=color)\n",
    "        #plt.setp(bp['outliers'], color=color)\n",
    "\n",
    "    scale = 2\n",
    "    widths = 0.5\n",
    "    \n",
    "\n",
    "    fig, axes = plt.subplots(ncols=3, sharey=True)\n",
    "    fig.subplots_adjust(wspace=0)\n",
    "    \n",
    "    \n",
    "  \n",
    "    for i, ax, app, name in zip(range(3), axes, [\"polar\", \"web\", \"car\"], [\"Fitness App\", \"Web Analytics\", \"Car Sensors\"]):\n",
    "        df_exp = data[(data[\"application\"] == app)]\n",
    "        \n",
    "        if i == 0:\n",
    "            ax.set_ylabel(\"Latency [sec]\")\n",
    "\n",
    "        if i == 1:\n",
    "            ax.set_xlabel(\"Data Producers / Privacy Controllers\")\n",
    "\n",
    "\n",
    "        \n",
    "        if df_exp.empty and i == 2:\n",
    "            ax.legend([bp1[\"boxes\"][0], bp2[\"boxes\"][0]], [\"Plaintext\", \"Zeph\"])\n",
    "            continue\n",
    "        elif df_exp.empty:\n",
    "            continue\n",
    "\n",
    "        labels = df_exp[\"parties\"].values\n",
    "        values1 = df_exp[\"latencies_plaintext_ms\"].values / 1000\n",
    "        values2 = df_exp[\"latencies_zeph_ms\"].values / 1000\n",
    "    \n",
    "        positions1 = np.array(range(len(values1))) * scale - 0.3\n",
    "        positions2 = np.array(range(len(values2))) * scale + 0.3\n",
    "    \n",
    "        bp1 = ax.boxplot(values1, False, '+', positions=positions1, patch_artist=True, widths=widths)\n",
    "        set_box_color(bp1, colors[0])   \n",
    "   \n",
    "        bp2 = ax.boxplot(values2, False, '+', positions=positions2, patch_artist=True, widths=widths)\n",
    "        set_box_color(bp2, colors[1])\n",
    "\n",
    "        if i == 2:\n",
    "            ax.legend([bp1[\"boxes\"][0], bp2[\"boxes\"][0]], [\"Plaintext\", \"Zeph\"])\n",
    "        \n",
    "        \n",
    "\n",
    "        ax.set_xlim(-1, len(labels) * scale - 1)\n",
    "\n",
    "        ax.set_ylim(ymin=0)\n",
    "        ax.set_xticks(range(0, len(labels) * scale, scale))\n",
    "        ax.set(xticklabels=labels)\n",
    "        \n",
    "        if plot_format:\n",
    "            ax.yaxis.set_major_locator(plticker.MultipleLocator(0.5))\n",
    "\n",
    "        ax.grid(True, axis=\"y\", linestyle=':', color='0.6', zorder=0, linewidth=1.2)\n",
    "\n",
    "        ax2 = ax.twiny()\n",
    "        ax2.set_xticks([])\n",
    "        ax2.set_xlabel(name)\n",
    "    \n",
    "    plt.show()"
   ]
  },
  {
   "cell_type": "code",
   "execution_count": 33,
   "id": "appropriate-paris",
   "metadata": {},
   "outputs": [
    {
     "data": {
      "text/markdown": [
       "#### Paper Results"
      ],
      "text/plain": [
       "<IPython.core.display.Markdown object>"
      ]
     },
     "metadata": {},
     "output_type": "display_data"
    },
    {
     "data": {
      "image/png": "[encoded data removed]",
      "text/plain": [
       "<Figure size 597.758x197.032 with 6 Axes>"
      ]
     },
     "metadata": {
      "needs_background": "light"
     },
     "output_type": "display_data"
    },
    {
     "data": {
      "text/html": [
       "<div>\n",
       "<style scoped>\n",
       "    .dataframe tbody tr th:only-of-type {\n",
       "        vertical-align: middle;\n",
       "    }\n",
       "\n",
       "    .dataframe tbody tr th {\n",
       "        vertical-align: top;\n",
       "    }\n",
       "\n",
       "    .dataframe thead th {\n",
       "        text-align: right;\n",
       "    }\n",
       "</style>\n",
       "<table border=\"1\" class=\"dataframe\">\n",
       "  <thead>\n",
       "    <tr style=\"text-align: right;\">\n",
       "      <th></th>\n",
       "      <th>parties</th>\n",
       "      <th>mean_latency_zeph_ms</th>\n",
       "      <th>expo_delay_mean</th>\n",
       "      <th>latencies_zeph_ms</th>\n",
       "      <th>median_latency_zeph_ms</th>\n",
       "      <th>application</th>\n",
       "      <th>mean_latency_plaintext_ms</th>\n",
       "      <th>latencies_plaintext_ms</th>\n",
       "      <th>median_latency_plaintext_ms</th>\n",
       "      <th>median_difference_ms</th>\n",
       "      <th>overhead_factor_median</th>\n",
       "    </tr>\n",
       "  </thead>\n",
       "  <tbody>\n",
       "    <tr>\n",
       "      <th>1</th>\n",
       "      <td>300</td>\n",
       "      <td>412</td>\n",
       "      <td>0.5</td>\n",
       "      <td>[511, 436, 505, 414, 399, 287, 378, 460, 349, 427, 302, 365, 504, 440]</td>\n",
       "      <td>420.5</td>\n",
       "      <td>car</td>\n",
       "      <td>114</td>\n",
       "      <td>[80, 128, 135, 110, 132, 153, 109, 63, 152, 97, 107, 112, 105]</td>\n",
       "      <td>110.0</td>\n",
       "      <td>310.5</td>\n",
       "      <td>4x</td>\n",
       "    </tr>\n",
       "    <tr>\n",
       "      <th>0</th>\n",
       "      <td>1200</td>\n",
       "      <td>857</td>\n",
       "      <td>0.5</td>\n",
       "      <td>[1196, 2126, 1222, 912, 757, 758, 692, 806, 743, 496, 469, 531, 433]</td>\n",
       "      <td>757.0</td>\n",
       "      <td>car</td>\n",
       "      <td>307</td>\n",
       "      <td>[315, 247, 295, 374, 296, 355, 325, 311, 315, 274, 259, 315, 360, 270]</td>\n",
       "      <td>313.0</td>\n",
       "      <td>444.0</td>\n",
       "      <td>2x</td>\n",
       "    </tr>\n",
       "    <tr>\n",
       "      <th>2</th>\n",
       "      <td>300</td>\n",
       "      <td>728</td>\n",
       "      <td>0.5</td>\n",
       "      <td>[2137, 1835, 452, 492, 575, 506, 471, 521, 427, 562, 481, 522, 487]</td>\n",
       "      <td>506.0</td>\n",
       "      <td>polar</td>\n",
       "      <td>122</td>\n",
       "      <td>[121, 160, 134, 105, 176, 137, 168, 96, 98, 102, 98, 85, 108]</td>\n",
       "      <td>108.0</td>\n",
       "      <td>398.0</td>\n",
       "      <td>5x</td>\n",
       "    </tr>\n",
       "    <tr>\n",
       "      <th>3</th>\n",
       "      <td>1200</td>\n",
       "      <td>1145</td>\n",
       "      <td>0.5</td>\n",
       "      <td>[2253, 2001, 889, 955, 761, 973, 1056, 895, 880, 1232, 805, 1361, 829]</td>\n",
       "      <td>955.0</td>\n",
       "      <td>polar</td>\n",
       "      <td>314</td>\n",
       "      <td>[345, 344, 318, 268, 338, 305, 305, 341, 305, 317, 319, 298, 285]</td>\n",
       "      <td>317.0</td>\n",
       "      <td>638.0</td>\n",
       "      <td>3x</td>\n",
       "    </tr>\n",
       "    <tr>\n",
       "      <th>5</th>\n",
       "      <td>300</td>\n",
       "      <td>605</td>\n",
       "      <td>0.5</td>\n",
       "      <td>[806, 661, 492, 511, 583, 452, 466, 1197, 437, 591, 600, 574, 531, 574]</td>\n",
       "      <td>574.0</td>\n",
       "      <td>web</td>\n",
       "      <td>115</td>\n",
       "      <td>[84, 113, 122, 105, 115, 115, 87, 142, 93, 221, 75, 95, 132]</td>\n",
       "      <td>113.0</td>\n",
       "      <td>461.0</td>\n",
       "      <td>5x</td>\n",
       "    </tr>\n",
       "    <tr>\n",
       "      <th>4</th>\n",
       "      <td>1200</td>\n",
       "      <td>1193</td>\n",
       "      <td>0.5</td>\n",
       "      <td>[2310, 1179, 1005, 1031, 1001, 983, 1008, 1055, 2051, 1027, 996, 989, 1001, 1068]</td>\n",
       "      <td>1017.5</td>\n",
       "      <td>web</td>\n",
       "      <td>461</td>\n",
       "      <td>[509, 410, 441, 420, 427, 394, 438, 459, 647, 441, 602, 413, 395]</td>\n",
       "      <td>438.0</td>\n",
       "      <td>579.5</td>\n",
       "      <td>2x</td>\n",
       "    </tr>\n",
       "  </tbody>\n",
       "</table>\n",
       "</div>"
      ],
      "text/plain": [
       "   parties  mean_latency_zeph_ms  expo_delay_mean  \\\n",
       "1      300                   412              0.5   \n",
       "0     1200                   857              0.5   \n",
       "2      300                   728              0.5   \n",
       "3     1200                  1145              0.5   \n",
       "5      300                   605              0.5   \n",
       "4     1200                  1193              0.5   \n",
       "\n",
       "                                                                   latencies_zeph_ms  \\\n",
       "1             [511, 436, 505, 414, 399, 287, 378, 460, 349, 427, 302, 365, 504, 440]   \n",
       "0               [1196, 2126, 1222, 912, 757, 758, 692, 806, 743, 496, 469, 531, 433]   \n",
       "2                [2137, 1835, 452, 492, 575, 506, 471, 521, 427, 562, 481, 522, 487]   \n",
       "3             [2253, 2001, 889, 955, 761, 973, 1056, 895, 880, 1232, 805, 1361, 829]   \n",
       "5            [806, 661, 492, 511, 583, 452, 466, 1197, 437, 591, 600, 574, 531, 574]   \n",
       "4  [2310, 1179, 1005, 1031, 1001, 983, 1008, 1055, 2051, 1027, 996, 989, 1001, 1068]   \n",
       "\n",
       "   median_latency_zeph_ms application  mean_latency_plaintext_ms  \\\n",
       "1                   420.5         car                        114   \n",
       "0                   757.0         car                        307   \n",
       "2                   506.0       polar                        122   \n",
       "3                   955.0       polar                        314   \n",
       "5                   574.0         web                        115   \n",
       "4                  1017.5         web                        461   \n",
       "\n",
       "                                                   latencies_plaintext_ms  \\\n",
       "1          [80, 128, 135, 110, 132, 153, 109, 63, 152, 97, 107, 112, 105]   \n",
       "0  [315, 247, 295, 374, 296, 355, 325, 311, 315, 274, 259, 315, 360, 270]   \n",
       "2           [121, 160, 134, 105, 176, 137, 168, 96, 98, 102, 98, 85, 108]   \n",
       "3       [345, 344, 318, 268, 338, 305, 305, 341, 305, 317, 319, 298, 285]   \n",
       "5            [84, 113, 122, 105, 115, 115, 87, 142, 93, 221, 75, 95, 132]   \n",
       "4       [509, 410, 441, 420, 427, 394, 438, 459, 647, 441, 602, 413, 395]   \n",
       "\n",
       "   median_latency_plaintext_ms  median_difference_ms overhead_factor_median  \n",
       "1                        110.0                 310.5                     4x  \n",
       "0                        313.0                 444.0                     2x  \n",
       "2                        108.0                 398.0                     5x  \n",
       "3                        317.0                 638.0                     3x  \n",
       "5                        113.0                 461.0                     5x  \n",
       "4                        438.0                 579.5                     2x  "
      ]
     },
     "metadata": {},
     "output_type": "display_data"
    },
    {
     "data": {
      "text/markdown": [
       "---"
      ],
      "text/plain": [
       "<IPython.core.display.Markdown object>"
      ]
     },
     "metadata": {},
     "output_type": "display_data"
    },
    {
     "data": {
      "text/markdown": [
       "#### AWS Results"
      ],
      "text/plain": [
       "<IPython.core.display.Markdown object>"
      ]
     },
     "metadata": {},
     "output_type": "display_data"
    },
    {
     "name": "stdout",
     "output_type": "stream",
     "text": [
      "does not exist yet\n"
     ]
    },
    {
     "data": {
      "text/markdown": [
       "---"
      ],
      "text/plain": [
       "<IPython.core.display.Markdown object>"
      ]
     },
     "metadata": {},
     "output_type": "display_data"
    }
   ],
   "source": [
    "def output(source):\n",
    "    df = build_figure9_df(dir=get_result_path(source.lower()))\n",
    "    display(Markdown(f\"#### {source} Results\"))\n",
    "    \n",
    "    if df is None or df.empty:\n",
    "        print(\"does not exist yet\")\n",
    "    else:\n",
    "        build_figure_9(data=df, plot_format=source==\"Paper\")\n",
    "        \n",
    "        display(df)\n",
    "    \n",
    "    display(Markdown(\"---\"))\n",
    "\n",
    "for source in [\"Paper\",\"AWS\"]:\n",
    "    output(source)"
   ]
  },
  {
   "cell_type": "markdown",
   "id": "blocked-vegetation",
   "metadata": {},
   "source": [
    "### Troubleshooting End-to-End\n",
    "\n",
    "If the AWS Results plot does not show all expected results:\n",
    "\n",
    "1. check the end of the [Cell Output](logs/e2e_full.log) to verify that the play recap shows `unreachable=0` and `failed=0` for all hosts. (if `unreachable=0` it is possible that the ssh connection between JupyterLab and a host machine was interrupted)\n",
    "2. check the results folder `results/review-results/aws` to verify that there is a file for each application `polar, web, car` both for `plaintext, zeph` and for `300, 1200`participants. If a file is empty, re-run the specific configuration with the command above.   "
   ]
  },
  {
   "cell_type": "markdown",
   "id": "headed-greenhouse",
   "metadata": {},
   "source": [
    "### Further Details about End-to-End Experiments \n",
    "\n",
    "#### Data Producer and Privacy Controller (Client)\n",
    "The data producers and the privacy controllers are grouped into partitions (either 100 producers or 100 privacy controllers).\n",
    "Each partition uses the [E2EBenchmarkRunner.java](zeph-benchmarks/zeph-macrobenchmarks/src/main/java/ch/ethz/infk/pps/zeph/benchmark/macro/e2e/E2EBenchmarkRunner.java) to run the benchmark and performs these basic steps:\n",
    "1. wait until all partitions are ready \n",
    "2. execute the benchmark by either producing a data stream or producing a token stream \n",
    "3. report performance\n",
    "\n",
    "The [e2eclient role](ansible/roles/e2eclient/tasks/main.yml) in the ansible playbook is responsible for starting the partitions involved in a benchmark on the ec2 machines.\n",
    "\n",
    "#### Data Transformer (Server)\n",
    "The data transformer (stream processor) that executes the privacy transformation consists of a master ([MasterApp.java](zeph-server/zeph-server-master/src/main/java/ch/ethz/infk/pps/zeph/server/master/MasterApp.java)) that is shared between transformations and a worker ([WorkerApp.java](zeph-server/zeph-server-worker/src/main/java/ch/ethz/infk/pps/zeph/server/worker/WorkerApp.java)) that is specific for a privacy transformation. Both the master and the worker application can be started multiple times and Kafka Streams ensures to distribute the workload among the available instances. In the end-to-end benchmark, we benchmark a single transformation running on two worker instances and one master instance.\n",
    "\n",
    "The [zephmaster role](ansible/roles/zephmaster/tasks/main.yml) and the [zephworker role](ansible/roles/zephworker/tasks/main.yml) start the components as a systemd service.\n",
    "\n",
    "#### Plaintext Baseline\n",
    "\n",
    "In the plaintext baseline there are only data producers (i.e., no privacy controllers) and a single type of data transformer ([PlaintextApp.java](zeph-server/zeph-server-worker/src/main/java/ch/ethz/infk/pps/zeph/server/worker/PlaintextApp.java)). Note, the available computational resources are the same as in Zeph (same number of server machines, data producers run on the same instances). The plaintext data producer are also operated by [E2EBenchmarkRunner.java](zeph-benchmarks/zeph-macrobenchmarks/src/main/java/ch/ethz/infk/pps/zeph/benchmark/macro/e2e/E2EBenchmarkRunner.java).\n",
    "\n",
    "The [plaintextworker role](ansible/roles/plaintextworker/tasks/main.yml) starts the plaintext worker as a systemd service and the [e2eclient role](ansible/roles/e2eclient/tasks/main.yml) handles the data producers."
   ]
  },
  {
   "cell_type": "markdown",
   "id": "viral-introduction",
   "metadata": {},
   "source": [
    "#### Switching between Applications\n",
    "Running benchmark with different applications requires to re-compile Zeph and setting the build profile as shown below.\n",
    "\n",
    "The Zeph applications are defined in `zeph-shared/applications`. Each application requires a `schema.avsc` file that describes an Input and a Digest.\n",
    "The input lists how a single event of the application looks in the plaintext case (i.e., the regular stream schema). The digest describes the encoding of this input in Zeph. In the current prototype of Zeph the encoding (containing only lists of longs) has to be defined manually. In addition, the prototype requires an `ApplicationAdapter.java` that defines how to encode an Input into a Digest among minor other things.\n",
    "\n",
    "Adding support for a new application requires defining such a schema and ApplicationAdapter and in addition register the application in form of a new Maven profile in `zeph-shared/pom.xml`. The Maven build of Zeph ensures that the files of the selected application are moved to the proper location."
   ]
  },
  {
   "cell_type": "code",
   "execution_count": 34,
   "id": "psychological-terry",
   "metadata": {
    "scrolled": true,
    "tags": []
   },
   "outputs": [
    {
     "data": {
      "text/markdown": [
       "Done! Cleared output for conciseness ([Show Cell Output](logs/build_zeph_standard.log))"
      ],
      "text/plain": [
       "<IPython.core.display.Markdown object>"
      ]
     },
     "metadata": {},
     "output_type": "display_data"
    },
    {
     "name": "stdout",
     "output_type": "stream",
     "text": [
      "CPU times: user 9.67 ms, sys: 227 µs, total: 9.89 ms\n",
      "Wall time: 3.57 ms\n"
     ]
    }
   ],
   "source": [
    "%%time\n",
    "# Switch to the Standard Application that uses an encoding of [x, x², 1] (~ 6 min)\n",
    "#!mvn clean install 2>&1 | tee logs/build_zeph_standard.log\n",
    "\n",
    "clear_output()\n",
    "display(Markdown(\"Done! Cleared output for conciseness ([Show Cell Output](logs/build_zeph_standard.log))\"))"
   ]
  },
  {
   "cell_type": "code",
   "execution_count": 35,
   "id": "anticipated-hamburg",
   "metadata": {
    "scrolled": true,
    "tags": []
   },
   "outputs": [
    {
     "data": {
      "text/markdown": [
       "Done! Cleared output for conciseness ([Show Cell Output](logs/build_zeph_polar.log))"
      ],
      "text/plain": [
       "<IPython.core.display.Markdown object>"
      ]
     },
     "metadata": {},
     "output_type": "display_data"
    },
    {
     "name": "stdout",
     "output_type": "stream",
     "text": [
      "CPU times: user 6.25 ms, sys: 18.6 ms, total: 24.9 ms\n",
      "Wall time: 9.81 ms\n"
     ]
    }
   ],
   "source": [
    "%%time\n",
    "# Switch to the Polar Application (~ 6 min)\n",
    "#!mvn clean install -P polar-application 2>&1 | tee logs/build_zeph_standard.log\n",
    "\n",
    "clear_output()\n",
    "display(Markdown(\"Done! Cleared output for conciseness ([Show Cell Output](logs/build_zeph_polar.log))\"))"
   ]
  },
  {
   "cell_type": "code",
   "execution_count": 36,
   "id": "extraordinary-country",
   "metadata": {
    "scrolled": true,
    "tags": []
   },
   "outputs": [
    {
     "data": {
      "text/markdown": [
       "Done! Cleared output for conciseness ([Show Cell Output](logs/build_zeph_web.log))"
      ],
      "text/plain": [
       "<IPython.core.display.Markdown object>"
      ]
     },
     "metadata": {},
     "output_type": "display_data"
    },
    {
     "name": "stdout",
     "output_type": "stream",
     "text": [
      "CPU times: user 4.93 ms, sys: 131 µs, total: 5.06 ms\n",
      "Wall time: 4.05 ms\n"
     ]
    }
   ],
   "source": [
    "%%time\n",
    "# Switch to the Web Application (~ 6 min)\n",
    "#!mvn clean install -P web-application 2>&1 | tee logs/build_zeph_standard.log\n",
    "\n",
    "clear_output()\n",
    "display(Markdown(\"Done! Cleared output for conciseness ([Show Cell Output](logs/build_zeph_web.log))\"))"
   ]
  },
  {
   "cell_type": "code",
   "execution_count": 37,
   "id": "canadian-joyce",
   "metadata": {
    "scrolled": true,
    "tags": []
   },
   "outputs": [
    {
     "data": {
      "text/markdown": [
       "Done! Cleared output for conciseness ([Show Cell Output](logs/build_zeph_car.log))"
      ],
      "text/plain": [
       "<IPython.core.display.Markdown object>"
      ]
     },
     "metadata": {},
     "output_type": "display_data"
    },
    {
     "name": "stdout",
     "output_type": "stream",
     "text": [
      "CPU times: user 141 µs, sys: 3.45 ms, total: 3.6 ms\n",
      "Wall time: 2.89 ms\n"
     ]
    }
   ],
   "source": [
    "%%time\n",
    "# Switch to the Car Application (~ 6 min)\n",
    "#!mvn clean install -P car-application 2>&1 | tee logs/build_zeph_standard.log\n",
    "\n",
    "clear_output()\n",
    "display(Markdown(\"Done! Cleared output for conciseness ([Show Cell Output](logs/build_zeph_car.log))\"))"
   ]
  }
 ],
 "metadata": {
  "kernelspec": {
   "display_name": "Python 3",
   "language": "python",
   "name": "python3"
  },
  "language_info": {
   "codemirror_mode": {
    "name": "ipython",
    "version": 3
   },
   "file_extension": ".py",
   "mimetype": "text/x-python",
   "name": "python",
   "nbconvert_exporter": "python",
   "pygments_lexer": "ipython3",
   "version": "3.8.5"
  }
 },
 "nbformat": 4,
 "nbformat_minor": 5
}
